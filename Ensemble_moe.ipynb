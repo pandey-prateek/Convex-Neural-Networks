{
  "nbformat": 4,
  "nbformat_minor": 0,
  "metadata": {
    "colab": {
      "provenance": [],
      "gpuType": "T4"
    },
    "kernelspec": {
      "name": "python3",
      "display_name": "Python 3"
    },
    "language_info": {
      "name": "python"
    },
    "accelerator": "GPU",
    "gpuClass": "standard"
  },
  "cells": [
    {
      "cell_type": "code",
      "execution_count": null,
      "metadata": {
        "id": "c0NVF25ZvteS"
      },
      "outputs": [],
      "source": [
        "import os\n",
        "import time\n",
        "\n",
        "import numpy as np\n",
        "import pandas as pd\n",
        "import sklearn\n",
        "import torch\n",
        "import torch.nn as nn\n",
        "import torch.nn.functional as F\n",
        "from torch.utils.data import DataLoader\n",
        "import torch.optim as optim\n",
        "from torchvision import datasets\n",
        "from torchvision import transforms\n",
        "from sklearn.metrics import accuracy_score\n",
        "import matplotlib.pyplot as plt\n",
        "import torchvision\n",
        "\n",
        "from tqdm import tqdm\n",
        "import warnings\n",
        "import matplotlib.pyplot as plt\n",
        "%matplotlib inline\n",
        "warnings.filterwarnings(\"ignore\")\n",
        "device = torch.device('cuda' if torch.cuda.is_available() else 'cpu')\n"
      ]
    },
    {
      "cell_type": "code",
      "source": [
        "transform = transforms.Compose(\n",
        "    [transforms.ToTensor(),\n",
        "     transforms.Normalize((0.5, 0.5, 0.5), (0.5, 0.5, 0.5))])\n",
        "\n",
        "batch_size = 128\n",
        "\n",
        "trainset = torchvision.datasets.CIFAR10(root='./data', train=True,\n",
        "                                        download=True, transform=transform)\n",
        "\n",
        "trainset = list (trainset)\n",
        "for i in range (len (trainset)):\n",
        "  if trainset [i][-1] in [2,3,4,5,6,7]:\n",
        "    trainset [i] = (trainset[i][0], 0)\n",
        "  else:\n",
        "    trainset [i] = (trainset[i][0], 1)\n",
        "\n",
        "train_loader = torch.utils.data.DataLoader(trainset, batch_size=batch_size,\n",
        "                                          shuffle=True, num_workers=2)\n",
        "\n",
        "# train, valid = random_split (trainset, [len (trainset)*0.8, len (trainset)*0.2])\n",
        "\n",
        "testset = torchvision.datasets.CIFAR10(root='./data', train=False,\n",
        "                                       download=True, transform=transform)\n",
        "testset = list (testset)\n",
        "for i in range (len (testset)):\n",
        "  if testset [i][-1] in [2,3,4,5,6,7]:\n",
        "    testset [i] = (testset[i][0], 0)\n",
        "  else:\n",
        "    testset [i] = (testset[i][0], 1)\n",
        "\n",
        "test_loader = torch.utils.data.DataLoader(testset, batch_size=batch_size,\n",
        "                                         shuffle=False, num_workers=2)\n",
        "\n",
        "classes = ('plane', 'car', 'bird', 'cat',\n",
        "           'deer', 'dog', 'frog', 'horse', 'ship', 'truck')"
      ],
      "metadata": {
        "colab": {
          "base_uri": "https://localhost:8080/"
        },
        "id": "J94eTPopvx1A",
        "outputId": "f3877bfa-da07-4955-b538-675ebd8dd236"
      },
      "execution_count": null,
      "outputs": [
        {
          "output_type": "stream",
          "name": "stdout",
          "text": [
            "Downloading https://www.cs.toronto.edu/~kriz/cifar-10-python.tar.gz to ./data/cifar-10-python.tar.gz\n"
          ]
        },
        {
          "output_type": "stream",
          "name": "stderr",
          "text": [
            "100%|██████████| 170498071/170498071 [00:01<00:00, 103389944.04it/s]\n"
          ]
        },
        {
          "output_type": "stream",
          "name": "stdout",
          "text": [
            "Extracting ./data/cifar-10-python.tar.gz to ./data\n",
            "Files already downloaded and verified\n"
          ]
        }
      ]
    },
    {
      "cell_type": "code",
      "source": [
        "input_dim=trainset[0][0].shape[0]*trainset[0][0].shape[1]*trainset[0][0].shape[2]"
      ],
      "metadata": {
        "id": "cbyQq1YkH2T0"
      },
      "execution_count": null,
      "outputs": []
    },
    {
      "cell_type": "code",
      "source": [
        "all_train_labels = []\n",
        "all_test_labels = []\n",
        "all_val_labels = []\n",
        "\n",
        "for images, labels in train_loader:  \n",
        "    all_train_labels.append(labels)\n",
        "all_train_labels = torch.cat(all_train_labels)\n",
        "    \n",
        "for images, labels in test_loader:  \n",
        "    all_test_labels.append(labels)\n",
        "all_test_labels = torch.cat(all_test_labels)\n",
        "\n",
        "\n",
        "\n",
        "print('Training labels:', torch.unique(all_train_labels))\n",
        "print('Training label distribution:', torch.bincount(all_train_labels))\n",
        "\n",
        "print('\\nTest labels:', torch.unique(all_test_labels))\n",
        "print('Test label distribution:', torch.bincount(all_test_labels))\n",
        "\n",
        "\n"
      ],
      "metadata": {
        "colab": {
          "base_uri": "https://localhost:8080/"
        },
        "id": "ovP4PTMLv2uZ",
        "outputId": "8ee81b2e-8e27-41c7-a7ae-eb747d7619cd"
      },
      "execution_count": null,
      "outputs": [
        {
          "output_type": "stream",
          "name": "stdout",
          "text": [
            "Training labels: tensor([0, 1])\n",
            "Training label distribution: tensor([30000, 20000])\n",
            "\n",
            "Test labels: tensor([0, 1])\n",
            "Test label distribution: tensor([6000, 4000])\n"
          ]
        }
      ]
    },
    {
      "cell_type": "code",
      "source": [
        "import re\n",
        "from collections import OrderedDict\n",
        "from functools import partial\n",
        "from typing import Any, List, Optional, Tuple\n",
        "\n",
        "import torch\n",
        "import torch.nn as nn\n",
        "import torch.nn.functional as F\n",
        "import torch.utils.checkpoint as cp\n",
        "from torch import Tensor\n",
        "\n",
        "class MLP(nn.Module):\n",
        "    def __init__ (self, input_size, hidden_size, output_size, dropout_prob):\n",
        "        super(MLP, self).__init__()\n",
        "        self.fc1 = nn.Linear(input_size, hidden_size)\n",
        "        self.elu1 = nn.ELU()\n",
        "        self.bn1 = nn.BatchNorm1d(hidden_size)\n",
        "        self.dropout1 = nn.Dropout(p=dropout_prob)\n",
        "        self.fc2 = nn.Linear(hidden_size, hidden_size)\n",
        "        self.elu2 = nn.ELU()\n",
        "        self.bn2 = nn.BatchNorm1d(hidden_size)\n",
        "        self.dropout2 = nn.Dropout(p=dropout_prob)\n",
        "        self.fc3 = nn.Linear(hidden_size, output_size)\n",
        "        \n",
        "    def forward(self, x):\n",
        "        x = self.dropout1(self.elu1(self.bn1(self.fc1(x))))\n",
        "        x = self.dropout2(self.elu2(self.bn2(self.fc2(x))))\n",
        "        x = self.fc3(x)\n",
        "        return F.sigmoid (x)"
      ],
      "metadata": {
        "id": "wsL56gLSxADt"
      },
      "execution_count": null,
      "outputs": []
    },
    {
      "cell_type": "code",
      "source": [
        "class Gated_Network(nn.Module):\n",
        "    def __init__(self, num_experts = 5, input_dim=1024):\n",
        "        super(Gated_Network,self).__init__()\n",
        "        self.gamma = nn.Parameter(torch.ones(1))\n",
        "        self.s = nn.Parameter(torch.zeros(num_experts))\n",
        "\n",
        "        self.mlp_expert1 = MLP(input_size=input_dim, hidden_size=800, output_size=1, dropout_prob = 0.5) \n",
        "        self.mlp_expert2 = MLP(input_size=input_dim, hidden_size=800, output_size=1, dropout_prob = 0.5) \n",
        "        self.mlp_expert3 = MLP(input_size=input_dim, hidden_size=800, output_size=1, dropout_prob = 0.5) \n",
        "        self.mlp_expert4 = MLP(input_size=input_dim, hidden_size=800, output_size=1, dropout_prob = 0.5) \n",
        "        self.mlp_expert5 = MLP(input_size=input_dim, hidden_size=800, output_size=1, dropout_prob = 0.5) \n",
        "\n",
        "        self.input_dim=input_dim\n",
        "\n",
        "    def forward(self,input):\n",
        "        mlp_out1 = self.mlp_expert1 (input.view(-1, self.input_dim))\n",
        "        mlp_out2 = self.mlp_expert2 (input.view(-1, self.input_dim))\n",
        "        mlp_out3 = self.mlp_expert3 (input.view(-1, self.input_dim))\n",
        "        mlp_out4 = self.mlp_expert4 (input.view(-1, self.input_dim))\n",
        "        mlp_out5 = self.mlp_expert5 (input.view(-1, self.input_dim))\n",
        "\n",
        "        # print (mlp_out1)\n",
        "\n",
        "        weights = F.softmax(self.s, dim=0).repeat(len(input),1,1).view(len(input),-1,1)\n",
        "        \n",
        "        stacked = torch.cat([mlp_out1.view(mlp_out1.shape[0],1,mlp_out1.shape[1]), mlp_out2.view(mlp_out2.shape[0],1,mlp_out2.shape[1]), mlp_out3.view(mlp_out3.shape[0],1,mlp_out3.shape[1]), mlp_out4.view(mlp_out4.shape[0],1,mlp_out4.shape[1]), mlp_out5.view(mlp_out5.shape[0],1,mlp_out5.shape[1])], dim=1)\n",
        "        \n",
        "        sum = torch.sum(stacked*weights,dim=1)\n",
        "        wighted_sum=self.gamma*sum\n",
        "\n",
        "        wighted_sum = wighted_sum.squeeze (-1)\n",
        "        return wighted_sum"
      ],
      "metadata": {
        "id": "IQoA6h3dwpNh"
      },
      "execution_count": null,
      "outputs": []
    },
    {
      "cell_type": "code",
      "source": [
        "def train_model(optimizer,trainloader,testloader,criterion,model,epochs):\n",
        "    \n",
        "    def train(optimizer,trainloader,criterion):\n",
        "        model.train()\n",
        "        train_loss=0\n",
        "        y_true=[]\n",
        "        y_pred=[]\n",
        "        for images, labels in trainloader:\n",
        "            model.zero_grad() \n",
        "            data = images.to(device)\n",
        "            target = labels.float ().to(device)\n",
        "            output = model(data)\n",
        "\n",
        "            loss = criterion(output,target)\n",
        "\n",
        "            threshold = torch.tensor([0.5])\n",
        "\n",
        "            results = ((output.detach ().cpu ()>threshold).float()*1)\n",
        "            \n",
        "            train_loss+=loss.item()\n",
        "            y_true+=list(target.detach().cpu().numpy())\n",
        "            y_pred+=list(results.detach().cpu().numpy())\n",
        "            loss.backward()\n",
        "            optimizer.step()\n",
        "\n",
        "            i=0\n",
        "            epsilon = 5\n",
        "            with torch.no_grad():\n",
        "              for params in model.parameters():\n",
        "                if i > 0:\n",
        "                  newparams=params.detach().clone()\n",
        "                  params.copy_(torch.where(newparams < 0, torch.exp(newparams - epsilon), newparams))\n",
        "                i=i+1\n",
        "\n",
        "        return train_loss/len(trainloader),accuracy_score(y_true,y_pred)\n",
        "\n",
        "    def test(testloader,criterion):\n",
        "        model.eval()\n",
        "        y_true=[]\n",
        "        y_pred=[]        \n",
        "        val_loss = 0\n",
        "        with torch.no_grad():\n",
        "          for images, labels in testloader:\n",
        "              data = images.to(device)\n",
        "              target = labels.float ().to(device)\n",
        "              output = model(data)\n",
        "\n",
        "              threshold = torch.tensor([0.5])\n",
        "              results = ((output.detach ().cpu ()>threshold).float()*1).detach ().cpu ()\n",
        "              \n",
        "              y_true+=list(target.detach().cpu().numpy())\n",
        "              y_pred+=list(results.detach().cpu().numpy())\n",
        "              val_loss += criterion(output, target).item()\n",
        "        return val_loss/len(testloader),accuracy_score(y_true,y_pred)\n",
        "\n",
        "        \n",
        "    train_loss=[]\n",
        "    test_loss=[]\n",
        "    train_acc=[]\n",
        "    test_acc=[]\n",
        "    for epoch in tqdm(range(1, epochs + 1)):\n",
        "        \n",
        "        tr_loss,tr_acc=train(optimizer=optimizer,trainloader=trainloader,criterion=criterion)\n",
        "        ts_loss,ts_acc=test(testloader,criterion=criterion)\n",
        "        train_loss.append(tr_loss)\n",
        "        test_loss.append(ts_loss)\n",
        "        train_acc.append(tr_acc)\n",
        "        test_acc.append(ts_acc)\n",
        "        print(\"train_acc\",tr_acc)\n",
        "        print(\"test_acc\",ts_acc)\n",
        "    return (train_loss,test_loss),(train_acc,test_acc)\n",
        "    \n",
        "def plot(Loss,EPOCH):\n",
        "  x = list(range(1,EPOCH+1))\n",
        "  fig, ax = plt.subplots(figsize=(7,7))\n",
        "  ax.plot(x, Loss[0], '-', label='train', color='green')\n",
        "  ax.plot(x, Loss[1], '-', label='test', color='red')\n",
        "  ax.legend()\n",
        "  plt.show()"
      ],
      "metadata": {
        "id": "r0O6zm4rHKbf"
      },
      "execution_count": null,
      "outputs": []
    },
    {
      "cell_type": "code",
      "source": [
        "gated_network=Gated_Network(input_dim=input_dim)\n",
        "device = torch.device('cuda' if torch.cuda.is_available() else 'cpu')\n",
        "EPOCH=50\n",
        "criterion = nn.BCELoss()\n",
        "model = gated_network.to(device)\n",
        "criterion = criterion.to(device)\n",
        "optimizer = optim.Adam (model.parameters(), lr=0.001)\n",
        "Loss, accuracy=train_model(optimizer,train_loader,test_loader,criterion,model,EPOCH)\n"
      ],
      "metadata": {
        "colab": {
          "base_uri": "https://localhost:8080/"
        },
        "id": "vKR-QeSTHRj_",
        "outputId": "9cb26411-89e6-4d21-aa54-996403f6bfe1"
      },
      "execution_count": null,
      "outputs": [
        {
          "output_type": "stream",
          "name": "stderr",
          "text": [
            "  2%|▏         | 1/50 [00:10<08:26, 10.33s/it]"
          ]
        },
        {
          "output_type": "stream",
          "name": "stdout",
          "text": [
            "train_acc 0.67858\n",
            "test_acc 0.7129\n"
          ]
        },
        {
          "output_type": "stream",
          "name": "stderr",
          "text": [
            "\r  4%|▍         | 2/50 [00:17<06:54,  8.64s/it]"
          ]
        },
        {
          "output_type": "stream",
          "name": "stdout",
          "text": [
            "train_acc 0.71254\n",
            "test_acc 0.7247\n"
          ]
        },
        {
          "output_type": "stream",
          "name": "stderr",
          "text": [
            "\r  6%|▌         | 3/50 [00:24<06:06,  7.79s/it]"
          ]
        },
        {
          "output_type": "stream",
          "name": "stdout",
          "text": [
            "train_acc 0.72224\n",
            "test_acc 0.7316\n"
          ]
        },
        {
          "output_type": "stream",
          "name": "stderr",
          "text": [
            "\r  8%|▊         | 4/50 [00:31<05:51,  7.65s/it]"
          ]
        },
        {
          "output_type": "stream",
          "name": "stdout",
          "text": [
            "train_acc 0.72834\n",
            "test_acc 0.7357\n"
          ]
        },
        {
          "output_type": "stream",
          "name": "stderr",
          "text": [
            "\r 10%|█         | 5/50 [00:38<05:29,  7.32s/it]"
          ]
        },
        {
          "output_type": "stream",
          "name": "stdout",
          "text": [
            "train_acc 0.73144\n",
            "test_acc 0.7388\n"
          ]
        },
        {
          "output_type": "stream",
          "name": "stderr",
          "text": [
            "\r 12%|█▏        | 6/50 [00:46<05:23,  7.35s/it]"
          ]
        },
        {
          "output_type": "stream",
          "name": "stdout",
          "text": [
            "train_acc 0.73246\n",
            "test_acc 0.7383\n"
          ]
        },
        {
          "output_type": "stream",
          "name": "stderr",
          "text": [
            "\r 14%|█▍        | 7/50 [00:53<05:15,  7.34s/it]"
          ]
        },
        {
          "output_type": "stream",
          "name": "stdout",
          "text": [
            "train_acc 0.7353\n",
            "test_acc 0.739\n"
          ]
        },
        {
          "output_type": "stream",
          "name": "stderr",
          "text": [
            "\r 16%|█▌        | 8/50 [01:00<05:02,  7.19s/it]"
          ]
        },
        {
          "output_type": "stream",
          "name": "stdout",
          "text": [
            "train_acc 0.73574\n",
            "test_acc 0.739\n"
          ]
        },
        {
          "output_type": "stream",
          "name": "stderr",
          "text": [
            "\r 18%|█▊        | 9/50 [01:07<04:56,  7.23s/it]"
          ]
        },
        {
          "output_type": "stream",
          "name": "stdout",
          "text": [
            "train_acc 0.73866\n",
            "test_acc 0.7405\n"
          ]
        },
        {
          "output_type": "stream",
          "name": "stderr",
          "text": [
            "\r 20%|██        | 10/50 [01:14<04:43,  7.08s/it]"
          ]
        },
        {
          "output_type": "stream",
          "name": "stdout",
          "text": [
            "train_acc 0.73876\n",
            "test_acc 0.7401\n"
          ]
        },
        {
          "output_type": "stream",
          "name": "stderr",
          "text": [
            "\r 22%|██▏       | 11/50 [01:21<04:39,  7.18s/it]"
          ]
        },
        {
          "output_type": "stream",
          "name": "stdout",
          "text": [
            "train_acc 0.73848\n",
            "test_acc 0.7415\n"
          ]
        },
        {
          "output_type": "stream",
          "name": "stderr",
          "text": [
            "\r 24%|██▍       | 12/50 [01:28<04:28,  7.08s/it]"
          ]
        },
        {
          "output_type": "stream",
          "name": "stdout",
          "text": [
            "train_acc 0.73896\n",
            "test_acc 0.7425\n"
          ]
        },
        {
          "output_type": "stream",
          "name": "stderr",
          "text": [
            "\r 26%|██▌       | 13/50 [01:36<04:25,  7.19s/it]"
          ]
        },
        {
          "output_type": "stream",
          "name": "stdout",
          "text": [
            "train_acc 0.73928\n",
            "test_acc 0.7418\n"
          ]
        },
        {
          "output_type": "stream",
          "name": "stderr",
          "text": [
            "\r 28%|██▊       | 14/50 [01:43<04:21,  7.25s/it]"
          ]
        },
        {
          "output_type": "stream",
          "name": "stdout",
          "text": [
            "train_acc 0.73996\n",
            "test_acc 0.7408\n"
          ]
        },
        {
          "output_type": "stream",
          "name": "stderr",
          "text": [
            "\r 30%|███       | 15/50 [01:50<04:09,  7.12s/it]"
          ]
        },
        {
          "output_type": "stream",
          "name": "stdout",
          "text": [
            "train_acc 0.73968\n",
            "test_acc 0.7425\n"
          ]
        },
        {
          "output_type": "stream",
          "name": "stderr",
          "text": [
            "\r 32%|███▏      | 16/50 [01:57<04:05,  7.23s/it]"
          ]
        },
        {
          "output_type": "stream",
          "name": "stdout",
          "text": [
            "train_acc 0.74116\n",
            "test_acc 0.7434\n"
          ]
        },
        {
          "output_type": "stream",
          "name": "stderr",
          "text": [
            "\r 34%|███▍      | 17/50 [02:04<03:53,  7.09s/it]"
          ]
        },
        {
          "output_type": "stream",
          "name": "stdout",
          "text": [
            "train_acc 0.74152\n",
            "test_acc 0.7437\n"
          ]
        },
        {
          "output_type": "stream",
          "name": "stderr",
          "text": [
            "\r 36%|███▌      | 18/50 [02:11<03:49,  7.18s/it]"
          ]
        },
        {
          "output_type": "stream",
          "name": "stdout",
          "text": [
            "train_acc 0.7412\n",
            "test_acc 0.7428\n"
          ]
        },
        {
          "output_type": "stream",
          "name": "stderr",
          "text": [
            "\r 38%|███▊      | 19/50 [02:18<03:41,  7.13s/it]"
          ]
        },
        {
          "output_type": "stream",
          "name": "stdout",
          "text": [
            "train_acc 0.74162\n",
            "test_acc 0.743\n"
          ]
        },
        {
          "output_type": "stream",
          "name": "stderr",
          "text": [
            "\r 40%|████      | 20/50 [02:26<03:34,  7.15s/it]"
          ]
        },
        {
          "output_type": "stream",
          "name": "stdout",
          "text": [
            "train_acc 0.74024\n",
            "test_acc 0.7442\n"
          ]
        },
        {
          "output_type": "stream",
          "name": "stderr",
          "text": [
            "\r 42%|████▏     | 21/50 [02:33<03:29,  7.21s/it]"
          ]
        },
        {
          "output_type": "stream",
          "name": "stdout",
          "text": [
            "train_acc 0.74122\n",
            "test_acc 0.7424\n"
          ]
        },
        {
          "output_type": "stream",
          "name": "stderr",
          "text": [
            "\r 44%|████▍     | 22/50 [02:40<03:18,  7.08s/it]"
          ]
        },
        {
          "output_type": "stream",
          "name": "stdout",
          "text": [
            "train_acc 0.74128\n",
            "test_acc 0.7447\n"
          ]
        },
        {
          "output_type": "stream",
          "name": "stderr",
          "text": [
            "\r 46%|████▌     | 23/50 [02:47<03:13,  7.18s/it]"
          ]
        },
        {
          "output_type": "stream",
          "name": "stdout",
          "text": [
            "train_acc 0.74072\n",
            "test_acc 0.7428\n"
          ]
        },
        {
          "output_type": "stream",
          "name": "stderr",
          "text": [
            "\r 48%|████▊     | 24/50 [02:54<03:03,  7.06s/it]"
          ]
        },
        {
          "output_type": "stream",
          "name": "stdout",
          "text": [
            "train_acc 0.74236\n",
            "test_acc 0.7437\n"
          ]
        },
        {
          "output_type": "stream",
          "name": "stderr",
          "text": [
            "\r 50%|█████     | 25/50 [03:02<03:00,  7.20s/it]"
          ]
        },
        {
          "output_type": "stream",
          "name": "stdout",
          "text": [
            "train_acc 0.742\n",
            "test_acc 0.744\n"
          ]
        },
        {
          "output_type": "stream",
          "name": "stderr",
          "text": [
            "\r 52%|█████▏    | 26/50 [03:09<02:52,  7.20s/it]"
          ]
        },
        {
          "output_type": "stream",
          "name": "stdout",
          "text": [
            "train_acc 0.74068\n",
            "test_acc 0.7442\n"
          ]
        },
        {
          "output_type": "stream",
          "name": "stderr",
          "text": [
            "\r 54%|█████▍    | 27/50 [03:16<02:43,  7.13s/it]"
          ]
        },
        {
          "output_type": "stream",
          "name": "stdout",
          "text": [
            "train_acc 0.74056\n",
            "test_acc 0.743\n"
          ]
        },
        {
          "output_type": "stream",
          "name": "stderr",
          "text": [
            "\r 56%|█████▌    | 28/50 [03:23<02:37,  7.17s/it]"
          ]
        },
        {
          "output_type": "stream",
          "name": "stdout",
          "text": [
            "train_acc 0.7422\n",
            "test_acc 0.7438\n"
          ]
        },
        {
          "output_type": "stream",
          "name": "stderr",
          "text": [
            "\r 58%|█████▊    | 29/50 [03:30<02:27,  7.02s/it]"
          ]
        },
        {
          "output_type": "stream",
          "name": "stdout",
          "text": [
            "train_acc 0.74234\n",
            "test_acc 0.7433\n"
          ]
        },
        {
          "output_type": "stream",
          "name": "stderr",
          "text": [
            "\r 60%|██████    | 30/50 [03:37<02:21,  7.07s/it]"
          ]
        },
        {
          "output_type": "stream",
          "name": "stdout",
          "text": [
            "train_acc 0.74218\n",
            "test_acc 0.7435\n"
          ]
        },
        {
          "output_type": "stream",
          "name": "stderr",
          "text": [
            "\r 62%|██████▏   | 31/50 [03:43<02:11,  6.94s/it]"
          ]
        },
        {
          "output_type": "stream",
          "name": "stdout",
          "text": [
            "train_acc 0.74192\n",
            "test_acc 0.7452\n"
          ]
        },
        {
          "output_type": "stream",
          "name": "stderr",
          "text": [
            "\r 64%|██████▍   | 32/50 [03:51<02:06,  7.03s/it]"
          ]
        },
        {
          "output_type": "stream",
          "name": "stdout",
          "text": [
            "train_acc 0.74206\n",
            "test_acc 0.7441\n"
          ]
        },
        {
          "output_type": "stream",
          "name": "stderr",
          "text": [
            "\r 66%|██████▌   | 33/50 [04:00<02:12,  7.82s/it]"
          ]
        },
        {
          "output_type": "stream",
          "name": "stdout",
          "text": [
            "train_acc 0.74156\n",
            "test_acc 0.7433\n"
          ]
        },
        {
          "output_type": "stream",
          "name": "stderr",
          "text": [
            "\r 68%|██████▊   | 34/50 [04:11<02:20,  8.81s/it]"
          ]
        },
        {
          "output_type": "stream",
          "name": "stdout",
          "text": [
            "train_acc 0.74364\n",
            "test_acc 0.7438\n"
          ]
        },
        {
          "output_type": "stream",
          "name": "stderr",
          "text": [
            "\r 70%|███████   | 35/50 [04:18<02:03,  8.21s/it]"
          ]
        },
        {
          "output_type": "stream",
          "name": "stdout",
          "text": [
            "train_acc 0.74188\n",
            "test_acc 0.7433\n"
          ]
        },
        {
          "output_type": "stream",
          "name": "stderr",
          "text": [
            "\r 72%|███████▏  | 36/50 [04:26<01:51,  7.98s/it]"
          ]
        },
        {
          "output_type": "stream",
          "name": "stdout",
          "text": [
            "train_acc 0.74332\n",
            "test_acc 0.7449\n"
          ]
        },
        {
          "output_type": "stream",
          "name": "stderr",
          "text": [
            "\r 74%|███████▍  | 37/50 [04:33<01:39,  7.64s/it]"
          ]
        },
        {
          "output_type": "stream",
          "name": "stdout",
          "text": [
            "train_acc 0.74222\n",
            "test_acc 0.745\n"
          ]
        },
        {
          "output_type": "stream",
          "name": "stderr",
          "text": [
            "\r 76%|███████▌  | 38/50 [04:40<01:30,  7.57s/it]"
          ]
        },
        {
          "output_type": "stream",
          "name": "stdout",
          "text": [
            "train_acc 0.74326\n",
            "test_acc 0.7442\n"
          ]
        },
        {
          "output_type": "stream",
          "name": "stderr",
          "text": [
            "\r 78%|███████▊  | 39/50 [04:47<01:21,  7.37s/it]"
          ]
        },
        {
          "output_type": "stream",
          "name": "stdout",
          "text": [
            "train_acc 0.74338\n",
            "test_acc 0.7458\n"
          ]
        },
        {
          "output_type": "stream",
          "name": "stderr",
          "text": [
            "\r 80%|████████  | 40/50 [04:54<01:13,  7.33s/it]"
          ]
        },
        {
          "output_type": "stream",
          "name": "stdout",
          "text": [
            "train_acc 0.74162\n",
            "test_acc 0.7443\n"
          ]
        },
        {
          "output_type": "stream",
          "name": "stderr",
          "text": [
            "\r 82%|████████▏ | 41/50 [05:01<01:05,  7.33s/it]"
          ]
        },
        {
          "output_type": "stream",
          "name": "stdout",
          "text": [
            "train_acc 0.74336\n",
            "test_acc 0.7455\n"
          ]
        },
        {
          "output_type": "stream",
          "name": "stderr",
          "text": [
            "\r 84%|████████▍ | 42/50 [05:08<00:57,  7.18s/it]"
          ]
        },
        {
          "output_type": "stream",
          "name": "stdout",
          "text": [
            "train_acc 0.74286\n",
            "test_acc 0.746\n"
          ]
        },
        {
          "output_type": "stream",
          "name": "stderr",
          "text": [
            "\r 86%|████████▌ | 43/50 [05:16<00:50,  7.23s/it]"
          ]
        },
        {
          "output_type": "stream",
          "name": "stdout",
          "text": [
            "train_acc 0.7426\n",
            "test_acc 0.7467\n"
          ]
        },
        {
          "output_type": "stream",
          "name": "stderr",
          "text": [
            "\r 88%|████████▊ | 44/50 [05:22<00:42,  7.09s/it]"
          ]
        },
        {
          "output_type": "stream",
          "name": "stdout",
          "text": [
            "train_acc 0.74222\n",
            "test_acc 0.7457\n"
          ]
        },
        {
          "output_type": "stream",
          "name": "stderr",
          "text": [
            "\r 90%|█████████ | 45/50 [05:30<00:35,  7.17s/it]"
          ]
        },
        {
          "output_type": "stream",
          "name": "stdout",
          "text": [
            "train_acc 0.74232\n",
            "test_acc 0.7459\n"
          ]
        },
        {
          "output_type": "stream",
          "name": "stderr",
          "text": [
            "\r 92%|█████████▏| 46/50 [05:37<00:28,  7.19s/it]"
          ]
        },
        {
          "output_type": "stream",
          "name": "stdout",
          "text": [
            "train_acc 0.74304\n",
            "test_acc 0.7465\n"
          ]
        },
        {
          "output_type": "stream",
          "name": "stderr",
          "text": [
            "\r 94%|█████████▍| 47/50 [05:44<00:21,  7.15s/it]"
          ]
        },
        {
          "output_type": "stream",
          "name": "stdout",
          "text": [
            "train_acc 0.7431\n",
            "test_acc 0.744\n"
          ]
        },
        {
          "output_type": "stream",
          "name": "stderr",
          "text": [
            "\r 96%|█████████▌| 48/50 [05:51<00:14,  7.18s/it]"
          ]
        },
        {
          "output_type": "stream",
          "name": "stdout",
          "text": [
            "train_acc 0.74416\n",
            "test_acc 0.7445\n"
          ]
        },
        {
          "output_type": "stream",
          "name": "stderr",
          "text": [
            "\r 98%|█████████▊| 49/50 [05:58<00:07,  7.03s/it]"
          ]
        },
        {
          "output_type": "stream",
          "name": "stdout",
          "text": [
            "train_acc 0.74324\n",
            "test_acc 0.7462\n"
          ]
        },
        {
          "output_type": "stream",
          "name": "stderr",
          "text": [
            "100%|██████████| 50/50 [06:05<00:00,  7.32s/it]"
          ]
        },
        {
          "output_type": "stream",
          "name": "stdout",
          "text": [
            "train_acc 0.74348\n",
            "test_acc 0.746\n"
          ]
        },
        {
          "output_type": "stream",
          "name": "stderr",
          "text": [
            "\n"
          ]
        }
      ]
    },
    {
      "cell_type": "code",
      "source": [
        "plot(Loss,EPOCH)\n",
        "plot(accuracy,EPOCH)"
      ],
      "metadata": {
        "colab": {
          "base_uri": "https://localhost:8080/",
          "height": 1000
        },
        "id": "8-BBkVXkIZxV",
        "outputId": "8dcbbb24-574e-4db7-fbba-697fbb57e0f3"
      },
      "execution_count": null,
      "outputs": [
        {
          "output_type": "display_data",
          "data": {
            "text/plain": [
              "<Figure size 700x700 with 1 Axes>"
            ],
            "image/png": "[encoded data removed]"
          },
          "metadata": {}
        },
        {
          "output_type": "display_data",
          "data": {
            "text/plain": [
              "<Figure size 700x700 with 1 Axes>"
            ],
            "image/png": "[encoded data removed]"
          },
          "metadata": {}
        }
      ]
    },
    {
      "cell_type": "code",
      "source": [
        "torch.save(gated_network.state_dict(),\"moe.pt\")"
      ],
      "metadata": {
        "id": "OeQWhHfySbEs"
      },
      "execution_count": null,
      "outputs": []
    },
    {
      "cell_type": "code",
      "source": [
        "print (accuracy [0][-1] - accuracy [1][-1])"
      ],
      "metadata": {
        "id": "8PCbmKsaSw4Z",
        "colab": {
          "base_uri": "https://localhost:8080/"
        },
        "outputId": "d6b79d33-dde9-4162-e10c-84162557d407"
      },
      "execution_count": null,
      "outputs": [
        {
          "output_type": "stream",
          "name": "stdout",
          "text": [
            "-0.0025199999999999667\n"
          ]
        }
      ]
    }
  ]
}