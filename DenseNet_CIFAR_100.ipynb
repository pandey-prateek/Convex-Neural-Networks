{
  "nbformat": 4,
  "nbformat_minor": 0,
  "metadata": {
    "colab": {
      "provenance": [],
      "gpuType": "T4"
    },
    "kernelspec": {
      "name": "python3",
      "display_name": "Python 3"
    },
    "language_info": {
      "name": "python"
    },
    "accelerator": "GPU",
    "gpuClass": "standard"
  },
  "cells": [
    {
      "cell_type": "code",
      "execution_count": null,
      "metadata": {
        "id": "EUBaneE4I04E"
      },
      "outputs": [],
      "source": [
        "import os\n",
        "import time\n",
        "\n",
        "import numpy as np\n",
        "import pandas as pd\n",
        "import sklearn\n",
        "import torch\n",
        "import torch.nn as nn\n",
        "import torch.nn.functional as F\n",
        "from torch.utils.data import DataLoader\n",
        "import torch.optim as optim\n",
        "from torchvision import datasets\n",
        "from torchvision import transforms\n",
        "from sklearn.metrics import accuracy_score\n",
        "import matplotlib.pyplot as plt\n",
        "\n",
        "from tqdm import tqdm\n",
        "import warnings\n",
        "import matplotlib.pyplot as plt\n",
        "%matplotlib inline\n",
        "warnings.filterwarnings(\"ignore\")\n",
        "device = torch.device('cuda' if torch.cuda.is_available() else 'cpu')\n"
      ]
    },
    {
      "cell_type": "code",
      "source": [
        "transform = transforms.Compose([\n",
        "                    transforms.ToTensor(), \n",
        "            ])\n",
        "\n",
        "testset = datasets.CIFAR100(root='./data', train=False, download=True, transform=transform)\n",
        "trainset = datasets.CIFAR100(root='./data', train=True, download=True, transform=transform)\n",
        "train_loader = torch.utils.data.DataLoader(trainset, batch_size=128\n",
        "                                                    , shuffle=True, num_workers=8)\n",
        "\n",
        "test_loader = torch.utils.data.DataLoader(testset,batch_size=128\n",
        "                                                     , shuffle=True, num_workers=8)\n"
      ],
      "metadata": {
        "id": "LmTDSHlXJJZR",
        "colab": {
          "base_uri": "https://localhost:8080/"
        },
        "outputId": "cf1595aa-9bbd-4add-b482-3aa7368fd004"
      },
      "execution_count": null,
      "outputs": [
        {
          "output_type": "stream",
          "name": "stdout",
          "text": [
            "Files already downloaded and verified\n",
            "Files already downloaded and verified\n"
          ]
        }
      ]
    },
    {
      "cell_type": "code",
      "source": [
        "all_train_labels = []\n",
        "all_test_labels = []\n",
        "all_val_labels = []\n",
        "\n",
        "for images, labels in train_loader:  \n",
        "    all_train_labels.append(labels)\n",
        "all_train_labels = torch.cat(all_train_labels)\n",
        "    \n",
        "for images, labels in test_loader:  \n",
        "    all_test_labels.append(labels)\n",
        "all_test_labels = torch.cat(all_test_labels)\n",
        "\n",
        "\n",
        "\n",
        "print('Training labels:', torch.unique(all_train_labels))\n",
        "print('Training label distribution:', torch.bincount(all_train_labels))\n",
        "\n",
        "print('\\nTest labels:', torch.unique(all_test_labels))\n",
        "print('Test label distribution:', torch.bincount(all_test_labels))\n",
        "\n",
        "\n"
      ],
      "metadata": {
        "colab": {
          "base_uri": "https://localhost:8080/"
        },
        "id": "NbfuSpN31bJw",
        "outputId": "7d6a408e-1a80-42b9-b438-10a9f09cbd7b"
      },
      "execution_count": null,
      "outputs": [
        {
          "output_type": "stream",
          "name": "stdout",
          "text": [
            "Training labels: tensor([ 0,  1,  2,  3,  4,  5,  6,  7,  8,  9, 10, 11, 12, 13, 14, 15, 16, 17,\n",
            "        18, 19, 20, 21, 22, 23, 24, 25, 26, 27, 28, 29, 30, 31, 32, 33, 34, 35,\n",
            "        36, 37, 38, 39, 40, 41, 42, 43, 44, 45, 46, 47, 48, 49, 50, 51, 52, 53,\n",
            "        54, 55, 56, 57, 58, 59, 60, 61, 62, 63, 64, 65, 66, 67, 68, 69, 70, 71,\n",
            "        72, 73, 74, 75, 76, 77, 78, 79, 80, 81, 82, 83, 84, 85, 86, 87, 88, 89,\n",
            "        90, 91, 92, 93, 94, 95, 96, 97, 98, 99])\n",
            "Training label distribution: tensor([500, 500, 500, 500, 500, 500, 500, 500, 500, 500, 500, 500, 500, 500,\n",
            "        500, 500, 500, 500, 500, 500, 500, 500, 500, 500, 500, 500, 500, 500,\n",
            "        500, 500, 500, 500, 500, 500, 500, 500, 500, 500, 500, 500, 500, 500,\n",
            "        500, 500, 500, 500, 500, 500, 500, 500, 500, 500, 500, 500, 500, 500,\n",
            "        500, 500, 500, 500, 500, 500, 500, 500, 500, 500, 500, 500, 500, 500,\n",
            "        500, 500, 500, 500, 500, 500, 500, 500, 500, 500, 500, 500, 500, 500,\n",
            "        500, 500, 500, 500, 500, 500, 500, 500, 500, 500, 500, 500, 500, 500,\n",
            "        500, 500])\n",
            "\n",
            "Test labels: tensor([ 0,  1,  2,  3,  4,  5,  6,  7,  8,  9, 10, 11, 12, 13, 14, 15, 16, 17,\n",
            "        18, 19, 20, 21, 22, 23, 24, 25, 26, 27, 28, 29, 30, 31, 32, 33, 34, 35,\n",
            "        36, 37, 38, 39, 40, 41, 42, 43, 44, 45, 46, 47, 48, 49, 50, 51, 52, 53,\n",
            "        54, 55, 56, 57, 58, 59, 60, 61, 62, 63, 64, 65, 66, 67, 68, 69, 70, 71,\n",
            "        72, 73, 74, 75, 76, 77, 78, 79, 80, 81, 82, 83, 84, 85, 86, 87, 88, 89,\n",
            "        90, 91, 92, 93, 94, 95, 96, 97, 98, 99])\n",
            "Test label distribution: tensor([100, 100, 100, 100, 100, 100, 100, 100, 100, 100, 100, 100, 100, 100,\n",
            "        100, 100, 100, 100, 100, 100, 100, 100, 100, 100, 100, 100, 100, 100,\n",
            "        100, 100, 100, 100, 100, 100, 100, 100, 100, 100, 100, 100, 100, 100,\n",
            "        100, 100, 100, 100, 100, 100, 100, 100, 100, 100, 100, 100, 100, 100,\n",
            "        100, 100, 100, 100, 100, 100, 100, 100, 100, 100, 100, 100, 100, 100,\n",
            "        100, 100, 100, 100, 100, 100, 100, 100, 100, 100, 100, 100, 100, 100,\n",
            "        100, 100, 100, 100, 100, 100, 100, 100, 100, 100, 100, 100, 100, 100,\n",
            "        100, 100])\n"
          ]
        }
      ]
    },
    {
      "cell_type": "markdown",
      "source": [
        "  Densenet-BC model class, based on\n",
        "  Densely Connected Convolutional Networks <https://arxiv.org/pdf/1608.06993.pdf>\n"
      ],
      "metadata": {
        "id": "ZncItDcL-lRh"
      }
    },
    {
      "cell_type": "code",
      "source": [
        "import re\n",
        "from collections import OrderedDict\n",
        "from functools import partial\n",
        "from typing import Any, List, Optional, Tuple\n",
        "\n",
        "import torch\n",
        "import torch.nn as nn\n",
        "import torch.nn.functional as F\n",
        "import torch.utils.checkpoint as cp\n",
        "from torch import Tensor\n",
        "\n",
        "\n",
        "class _DenseLayer(nn.Module):\n",
        "    def __init__(self, num_input_features, growth_rate, bn_size, drop_rate) :\n",
        "        super(_DenseLayer,self).__init__()\n",
        "        self.denselayers = nn.Sequential(\n",
        "            OrderedDict(\n",
        "                [   (\"norm1\", nn.BatchNorm2d(num_input_features)),\n",
        "                    (\"relu1\", nn.ReLU(inplace=True)),\n",
        "                    (\"conv1\", nn.Conv2d(num_input_features, bn_size * growth_rate, kernel_size=1, stride=1, bias=False)),\n",
        "                    (\"norm2\", nn.BatchNorm2d(bn_size * growth_rate)),\n",
        "                    (\"relu2\", nn.ReLU(inplace=True)),\n",
        "                    (\"conv2\", nn.Conv2d(bn_size * growth_rate, growth_rate, kernel_size=3, stride=1, padding=1, bias=False)),\n",
        "                ]\n",
        "            )\n",
        "        )\n",
        "        self.drop_rate=drop_rate\n",
        "\n",
        "\n",
        "    def forward(self, input):\n",
        "        concated_features = torch.cat(input, 1)\n",
        "        new_features = self.denselayers(concated_features)\n",
        "        new_features = F.dropout(new_features, p=self.drop_rate, training=self.training)\n",
        "        return new_features\n",
        "\n",
        "\n",
        "class _DenseBlock(nn.ModuleDict):\n",
        "\n",
        "    def __init__(self,num_layers,num_input_features,bn_size,growth_rate,drop_rate):\n",
        "        super(_DenseBlock,self).__init__()\n",
        "        for i in range(num_layers):\n",
        "            layer = _DenseLayer(\n",
        "                num_input_features + i * growth_rate,\n",
        "                growth_rate=growth_rate,\n",
        "                bn_size=bn_size,\n",
        "                drop_rate=drop_rate\n",
        "            )\n",
        "            self.add_module(\"denselayer%d\" % (i + 1), layer)\n",
        "\n",
        "    def forward(self, init_features):\n",
        "        features = [init_features]\n",
        "        for name, layer in self.items():\n",
        "            new_features = layer(features)\n",
        "            features.append(new_features)\n",
        "        return torch.cat(features, 1)\n",
        "\n",
        "\n",
        "class _Transition(nn.Sequential):\n",
        "    def __init__(self, num_input_features, num_output_features):\n",
        "        super(_Transition,self).__init__()\n",
        "        self.norm = nn.BatchNorm2d(num_input_features)\n",
        "        self.relu = nn.ReLU(inplace=True)\n",
        "        self.conv = nn.Conv2d(num_input_features, num_output_features, kernel_size=1, stride=1, bias=False)\n",
        "        self.pool = nn.AvgPool2d(kernel_size=2, stride=2)\n",
        "\n",
        "\n",
        "class DenseNet(nn.Module):\n",
        "\n",
        "    def __init__(self,growth_rate= 32,block_config=[6, 12, 24, 16],num_init_features= 64,bn_size= 4,drop_rate = 0,num_classes = 1000):\n",
        "\n",
        "        super(DenseNet,self).__init__()\n",
        "\n",
        "        self.features = nn.Sequential(\n",
        "            OrderedDict(\n",
        "                [\n",
        "                    (\"conv0\", nn.Conv2d(3, num_init_features, kernel_size=7, stride=2, padding=3, bias=False)),\n",
        "                    (\"norm0\", nn.BatchNorm2d(num_init_features)),\n",
        "                    (\"relu0\", nn.ReLU(inplace=True)),\n",
        "                    (\"pool0\", nn.MaxPool2d(kernel_size=3, stride=2, padding=1)),\n",
        "                ]\n",
        "            )\n",
        "        )\n",
        "\n",
        "        num_features = num_init_features\n",
        "        for i, num_layers in enumerate(block_config):\n",
        "            block = _DenseBlock(\n",
        "                num_layers=num_layers,\n",
        "                num_input_features=num_features,\n",
        "                bn_size=bn_size,\n",
        "                growth_rate=growth_rate,\n",
        "                drop_rate=drop_rate\n",
        "            )\n",
        "            self.features.add_module(\"denseblock%d\" % (i + 1), block)\n",
        "            num_features = num_features + num_layers * growth_rate\n",
        "            if i != len(block_config) - 1:\n",
        "                trans = _Transition(num_input_features=num_features, num_output_features=num_features // 2)\n",
        "                self.features.add_module(\"transition%d\" % (i + 1), trans)\n",
        "                num_features = num_features // 2\n",
        "\n",
        "        self.features.add_module(\"norm5\", nn.BatchNorm2d(num_features))\n",
        "        self.classifier = nn.Linear(num_features, num_classes)\n",
        "\n",
        "    def forward(self, x):\n",
        "        \n",
        "        features = self.features(x)\n",
        "        out = F.relu(features, inplace=True)\n",
        "        \n",
        "        out = F.adaptive_avg_pool2d(out, (1, 1))\n",
        "        out = torch.flatten(out, 1)\n",
        "        out = self.classifier(out)\n",
        "        out = F.softmax(out,dim=1)\n",
        "        return out\n",
        "\n",
        "\n"
      ],
      "metadata": {
        "id": "vIDbANCxKb5A"
      },
      "execution_count": null,
      "outputs": []
    },
    {
      "cell_type": "code",
      "source": [
        "def train_model(optimizer,scheduler,trainloader,testloader,criterion,model,epochs):\n",
        "    \n",
        "    def train(optimizer,trainloader,criterion):\n",
        "        model.train()\n",
        "        train_loss=0\n",
        "        y_true=[]\n",
        "        y_pred=[]\n",
        "        for images, labels in trainloader:\n",
        "            model.zero_grad() \n",
        "            data = images.to(device)\n",
        "            target = labels.to(device)\n",
        "            output = model(data)\n",
        "            loss = criterion(output,target)\n",
        "            indices=torch.max(torch.exp(output),1)[1]\n",
        "            train_loss+=loss.item()\n",
        "            y_true+=list(target.detach().cpu().numpy())\n",
        "            y_pred+=list(indices.detach().cpu().numpy())\n",
        "            loss.backward()\n",
        "            optimizer.step()\n",
        "        return train_loss/len(trainloader),accuracy_score(y_true,y_pred)\n",
        "    def test(testloader,criterion):\n",
        "        model.eval()\n",
        "        y_true=[]\n",
        "        y_pred=[]        \n",
        "        val_loss = 0\n",
        "        with torch.no_grad():\n",
        "          for images, labels in testloader:\n",
        "              data = images.to(device)\n",
        "              target = labels.to(device)\n",
        "              output = model(data)\n",
        "              indices=torch.max(output,1)[1]\n",
        "              y_true+=list(target.detach().cpu().numpy())\n",
        "              y_pred+=list(indices.detach().cpu().numpy())\n",
        "              val_loss += criterion(output, target).item()\n",
        "        return val_loss/len(testloader),accuracy_score(y_true,y_pred)\n",
        "\n",
        "        \n",
        "    train_loss=[]\n",
        "    test_loss=[]\n",
        "    train_acc=[]\n",
        "    test_acc=[]\n",
        "    for epoch in tqdm(range(1, epochs + 1)):\n",
        "        \n",
        "        tr_loss,tr_acc=train(optimizer=optimizer,trainloader=trainloader,criterion=criterion)\n",
        "        ts_loss,ts_acc=test(testloader,criterion=criterion)\n",
        "        scheduler.step()\n",
        "        train_loss.append(tr_loss)\n",
        "        test_loss.append(ts_loss)\n",
        "        train_acc.append(tr_acc)\n",
        "        test_acc.append(ts_acc)\n",
        "        print(\"train_acc\",tr_acc)\n",
        "        print(\"test_acc\",ts_acc)\n",
        "    return (train_loss,test_loss),(train_acc,test_acc)\n",
        "    \n",
        "def plot(Loss,EPOCH):\n",
        "  x = list(range(1,EPOCH+1))\n",
        "  fig, ax = plt.subplots(figsize=(7,7))\n",
        "  ax.plot(x, Loss[0], '-', label='train', color='green')\n",
        "  ax.plot(x, Loss[1], '-', label='test', color='red')\n",
        "  ax.legend()\n",
        "  plt.show()"
      ],
      "metadata": {
        "id": "xnzAequjxj6w"
      },
      "execution_count": null,
      "outputs": []
    },
    {
      "cell_type": "code",
      "source": [
        "dense_net=DenseNet(block_config=[6,12,24,16],growth_rate=12,num_classes=len(torch.unique(all_train_labels)))\n",
        "device = torch.device('cuda' if torch.cuda.is_available() else 'cpu')\n",
        "EPOCH=50\n",
        "criterion = nn.CrossEntropyLoss()\n",
        "dense_net = dense_net.to(device)\n",
        "criterion = criterion.to(device)\n",
        "optimizer = optim.Adam(dense_net.parameters(), lr=0.001)\n",
        "scheduler = optim.lr_scheduler.StepLR(optimizer, step_size=20, gamma=0.1)\n",
        "Loss,accuracy=train_model(optimizer,scheduler,train_loader,test_loader,criterion,dense_net,EPOCH)"
      ],
      "metadata": {
        "colab": {
          "base_uri": "https://localhost:8080/"
        },
        "id": "Med2g2bq12wZ",
        "outputId": "97f8c4bd-42f3-4d81-dbad-5fef1765d5c4"
      },
      "execution_count": null,
      "outputs": [
        {
          "output_type": "stream",
          "name": "stderr",
          "text": [
            "  2%|▏         | 1/50 [00:38<31:37, 38.72s/it]"
          ]
        },
        {
          "output_type": "stream",
          "name": "stdout",
          "text": [
            "train_acc 0.05238\n",
            "test_acc 0.0659\n"
          ]
        },
        {
          "output_type": "stream",
          "name": "stderr",
          "text": [
            "\r  4%|▍         | 2/50 [01:17<30:49, 38.54s/it]"
          ]
        },
        {
          "output_type": "stream",
          "name": "stdout",
          "text": [
            "train_acc 0.08118\n",
            "test_acc 0.0895\n"
          ]
        },
        {
          "output_type": "stream",
          "name": "stderr",
          "text": [
            "\r  6%|▌         | 3/50 [01:56<30:30, 38.95s/it]"
          ]
        },
        {
          "output_type": "stream",
          "name": "stdout",
          "text": [
            "train_acc 0.10288\n",
            "test_acc 0.1155\n"
          ]
        },
        {
          "output_type": "stream",
          "name": "stderr",
          "text": [
            "\r  8%|▊         | 4/50 [02:36<30:03, 39.21s/it]"
          ]
        },
        {
          "output_type": "stream",
          "name": "stdout",
          "text": [
            "train_acc 0.12014\n",
            "test_acc 0.1212\n"
          ]
        },
        {
          "output_type": "stream",
          "name": "stderr",
          "text": [
            "\r 10%|█         | 5/50 [03:14<29:09, 38.89s/it]"
          ]
        },
        {
          "output_type": "stream",
          "name": "stdout",
          "text": [
            "train_acc 0.13446\n",
            "test_acc 0.1316\n"
          ]
        },
        {
          "output_type": "stream",
          "name": "stderr",
          "text": [
            "\r 12%|█▏        | 6/50 [03:53<28:39, 39.08s/it]"
          ]
        },
        {
          "output_type": "stream",
          "name": "stdout",
          "text": [
            "train_acc 0.14704\n",
            "test_acc 0.1479\n"
          ]
        },
        {
          "output_type": "stream",
          "name": "stderr",
          "text": [
            "\r 14%|█▍        | 7/50 [04:33<28:12, 39.36s/it]"
          ]
        },
        {
          "output_type": "stream",
          "name": "stdout",
          "text": [
            "train_acc 0.16216\n",
            "test_acc 0.1676\n"
          ]
        },
        {
          "output_type": "stream",
          "name": "stderr",
          "text": [
            "\r 16%|█▌        | 8/50 [05:12<27:28, 39.24s/it]"
          ]
        },
        {
          "output_type": "stream",
          "name": "stdout",
          "text": [
            "train_acc 0.16886\n",
            "test_acc 0.1733\n"
          ]
        },
        {
          "output_type": "stream",
          "name": "stderr",
          "text": [
            "\r 18%|█▊        | 9/50 [05:52<26:53, 39.36s/it]"
          ]
        },
        {
          "output_type": "stream",
          "name": "stdout",
          "text": [
            "train_acc 0.18358\n",
            "test_acc 0.1784\n"
          ]
        },
        {
          "output_type": "stream",
          "name": "stderr",
          "text": [
            "\r 20%|██        | 10/50 [06:32<26:27, 39.68s/it]"
          ]
        },
        {
          "output_type": "stream",
          "name": "stdout",
          "text": [
            "train_acc 0.19712\n",
            "test_acc 0.1726\n"
          ]
        },
        {
          "output_type": "stream",
          "name": "stderr",
          "text": [
            "\r 22%|██▏       | 11/50 [07:10<25:27, 39.18s/it]"
          ]
        },
        {
          "output_type": "stream",
          "name": "stdout",
          "text": [
            "train_acc 0.20442\n",
            "test_acc 0.1862\n"
          ]
        },
        {
          "output_type": "stream",
          "name": "stderr",
          "text": [
            "\r 24%|██▍       | 12/50 [07:50<24:53, 39.30s/it]"
          ]
        },
        {
          "output_type": "stream",
          "name": "stdout",
          "text": [
            "train_acc 0.21662\n",
            "test_acc 0.2093\n"
          ]
        },
        {
          "output_type": "stream",
          "name": "stderr",
          "text": [
            "\r 26%|██▌       | 13/50 [08:30<24:17, 39.39s/it]"
          ]
        },
        {
          "output_type": "stream",
          "name": "stdout",
          "text": [
            "train_acc 0.2255\n",
            "test_acc 0.2088\n"
          ]
        },
        {
          "output_type": "stream",
          "name": "stderr",
          "text": [
            "\r 28%|██▊       | 14/50 [09:07<23:20, 38.89s/it]"
          ]
        },
        {
          "output_type": "stream",
          "name": "stdout",
          "text": [
            "train_acc 0.23734\n",
            "test_acc 0.2187\n"
          ]
        },
        {
          "output_type": "stream",
          "name": "stderr",
          "text": [
            "\r 30%|███       | 15/50 [09:46<22:39, 38.84s/it]"
          ]
        },
        {
          "output_type": "stream",
          "name": "stdout",
          "text": [
            "train_acc 0.2448\n",
            "test_acc 0.212\n"
          ]
        },
        {
          "output_type": "stream",
          "name": "stderr",
          "text": [
            "\r 32%|███▏      | 16/50 [10:25<22:05, 39.00s/it]"
          ]
        },
        {
          "output_type": "stream",
          "name": "stdout",
          "text": [
            "train_acc 0.25246\n",
            "test_acc 0.2328\n"
          ]
        },
        {
          "output_type": "stream",
          "name": "stderr",
          "text": [
            "\r 34%|███▍      | 17/50 [11:04<21:22, 38.86s/it]"
          ]
        },
        {
          "output_type": "stream",
          "name": "stdout",
          "text": [
            "train_acc 0.26286\n",
            "test_acc 0.2278\n"
          ]
        },
        {
          "output_type": "stream",
          "name": "stderr",
          "text": [
            "\r 36%|███▌      | 18/50 [11:43<20:40, 38.78s/it]"
          ]
        },
        {
          "output_type": "stream",
          "name": "stdout",
          "text": [
            "train_acc 0.273\n",
            "test_acc 0.2241\n"
          ]
        },
        {
          "output_type": "stream",
          "name": "stderr",
          "text": [
            "\r 38%|███▊      | 19/50 [12:21<20:03, 38.82s/it]"
          ]
        },
        {
          "output_type": "stream",
          "name": "stdout",
          "text": [
            "train_acc 0.28148\n",
            "test_acc 0.2531\n"
          ]
        },
        {
          "output_type": "stream",
          "name": "stderr",
          "text": [
            "\r 40%|████      | 20/50 [13:00<19:20, 38.69s/it]"
          ]
        },
        {
          "output_type": "stream",
          "name": "stdout",
          "text": [
            "train_acc 0.29094\n",
            "test_acc 0.2376\n"
          ]
        },
        {
          "output_type": "stream",
          "name": "stderr",
          "text": [
            "\r 42%|████▏     | 21/50 [13:38<18:40, 38.65s/it]"
          ]
        },
        {
          "output_type": "stream",
          "name": "stdout",
          "text": [
            "train_acc 0.31938\n",
            "test_acc 0.2794\n"
          ]
        },
        {
          "output_type": "stream",
          "name": "stderr",
          "text": [
            "\r 44%|████▍     | 22/50 [14:16<17:56, 38.44s/it]"
          ]
        },
        {
          "output_type": "stream",
          "name": "stdout",
          "text": [
            "train_acc 0.33574\n",
            "test_acc 0.282\n"
          ]
        },
        {
          "output_type": "stream",
          "name": "stderr",
          "text": [
            "\r 46%|████▌     | 23/50 [14:55<17:17, 38.41s/it]"
          ]
        },
        {
          "output_type": "stream",
          "name": "stdout",
          "text": [
            "train_acc 0.34462\n",
            "test_acc 0.2823\n"
          ]
        },
        {
          "output_type": "stream",
          "name": "stderr",
          "text": [
            "\r 48%|████▊     | 24/50 [15:33<16:39, 38.44s/it]"
          ]
        },
        {
          "output_type": "stream",
          "name": "stdout",
          "text": [
            "train_acc 0.349\n",
            "test_acc 0.2854\n"
          ]
        },
        {
          "output_type": "stream",
          "name": "stderr",
          "text": [
            "\r 50%|█████     | 25/50 [16:12<16:01, 38.44s/it]"
          ]
        },
        {
          "output_type": "stream",
          "name": "stdout",
          "text": [
            "train_acc 0.3532\n",
            "test_acc 0.2843\n"
          ]
        },
        {
          "output_type": "stream",
          "name": "stderr",
          "text": [
            "\r 52%|█████▏    | 26/50 [16:50<15:21, 38.40s/it]"
          ]
        },
        {
          "output_type": "stream",
          "name": "stdout",
          "text": [
            "train_acc 0.35786\n",
            "test_acc 0.286\n"
          ]
        },
        {
          "output_type": "stream",
          "name": "stderr",
          "text": [
            "\r 54%|█████▍    | 27/50 [17:29<14:50, 38.72s/it]"
          ]
        },
        {
          "output_type": "stream",
          "name": "stdout",
          "text": [
            "train_acc 0.36286\n",
            "test_acc 0.288\n"
          ]
        },
        {
          "output_type": "stream",
          "name": "stderr",
          "text": [
            "\r 56%|█████▌    | 28/50 [18:09<14:17, 38.96s/it]"
          ]
        },
        {
          "output_type": "stream",
          "name": "stdout",
          "text": [
            "train_acc 0.36642\n",
            "test_acc 0.288\n"
          ]
        },
        {
          "output_type": "stream",
          "name": "stderr",
          "text": [
            "\r 58%|█████▊    | 29/50 [18:48<13:36, 38.86s/it]"
          ]
        },
        {
          "output_type": "stream",
          "name": "stdout",
          "text": [
            "train_acc 0.37056\n",
            "test_acc 0.2903\n"
          ]
        },
        {
          "output_type": "stream",
          "name": "stderr",
          "text": [
            "\r 60%|██████    | 30/50 [19:26<12:56, 38.81s/it]"
          ]
        },
        {
          "output_type": "stream",
          "name": "stdout",
          "text": [
            "train_acc 0.3734\n",
            "test_acc 0.2881\n"
          ]
        },
        {
          "output_type": "stream",
          "name": "stderr",
          "text": [
            "\r 62%|██████▏   | 31/50 [20:05<12:15, 38.69s/it]"
          ]
        },
        {
          "output_type": "stream",
          "name": "stdout",
          "text": [
            "train_acc 0.37806\n",
            "test_acc 0.2901\n"
          ]
        },
        {
          "output_type": "stream",
          "name": "stderr",
          "text": [
            "\r 64%|██████▍   | 32/50 [20:43<11:34, 38.59s/it]"
          ]
        },
        {
          "output_type": "stream",
          "name": "stdout",
          "text": [
            "train_acc 0.38078\n",
            "test_acc 0.2875\n"
          ]
        },
        {
          "output_type": "stream",
          "name": "stderr",
          "text": [
            "\r 66%|██████▌   | 33/50 [21:22<10:56, 38.63s/it]"
          ]
        },
        {
          "output_type": "stream",
          "name": "stdout",
          "text": [
            "train_acc 0.38438\n",
            "test_acc 0.2898\n"
          ]
        },
        {
          "output_type": "stream",
          "name": "stderr",
          "text": [
            "\r 68%|██████▊   | 34/50 [22:00<10:16, 38.56s/it]"
          ]
        },
        {
          "output_type": "stream",
          "name": "stdout",
          "text": [
            "train_acc 0.38812\n",
            "test_acc 0.2921\n"
          ]
        },
        {
          "output_type": "stream",
          "name": "stderr",
          "text": [
            "\r 70%|███████   | 35/50 [22:39<09:39, 38.63s/it]"
          ]
        },
        {
          "output_type": "stream",
          "name": "stdout",
          "text": [
            "train_acc 0.39276\n",
            "test_acc 0.2917\n"
          ]
        },
        {
          "output_type": "stream",
          "name": "stderr",
          "text": [
            "\r 72%|███████▏  | 36/50 [23:18<09:04, 38.88s/it]"
          ]
        },
        {
          "output_type": "stream",
          "name": "stdout",
          "text": [
            "train_acc 0.39358\n",
            "test_acc 0.2933\n"
          ]
        },
        {
          "output_type": "stream",
          "name": "stderr",
          "text": [
            "\r 74%|███████▍  | 37/50 [23:58<08:29, 39.21s/it]"
          ]
        },
        {
          "output_type": "stream",
          "name": "stdout",
          "text": [
            "train_acc 0.39716\n",
            "test_acc 0.2921\n"
          ]
        },
        {
          "output_type": "stream",
          "name": "stderr",
          "text": [
            "\r 76%|███████▌  | 38/50 [24:37<07:48, 39.03s/it]"
          ]
        },
        {
          "output_type": "stream",
          "name": "stdout",
          "text": [
            "train_acc 0.39894\n",
            "test_acc 0.2933\n"
          ]
        },
        {
          "output_type": "stream",
          "name": "stderr",
          "text": [
            "\r 78%|███████▊  | 39/50 [25:15<07:07, 38.83s/it]"
          ]
        },
        {
          "output_type": "stream",
          "name": "stdout",
          "text": [
            "train_acc 0.40288\n",
            "test_acc 0.2926\n"
          ]
        },
        {
          "output_type": "stream",
          "name": "stderr",
          "text": [
            "\r 80%|████████  | 40/50 [25:54<06:28, 38.82s/it]"
          ]
        },
        {
          "output_type": "stream",
          "name": "stdout",
          "text": [
            "train_acc 0.40526\n",
            "test_acc 0.2957\n"
          ]
        },
        {
          "output_type": "stream",
          "name": "stderr",
          "text": [
            "\r 82%|████████▏ | 41/50 [26:33<05:49, 38.81s/it]"
          ]
        },
        {
          "output_type": "stream",
          "name": "stdout",
          "text": [
            "train_acc 0.40964\n",
            "test_acc 0.2948\n"
          ]
        },
        {
          "output_type": "stream",
          "name": "stderr",
          "text": [
            "\r 84%|████████▍ | 42/50 [27:12<05:11, 38.97s/it]"
          ]
        },
        {
          "output_type": "stream",
          "name": "stdout",
          "text": [
            "train_acc 0.41124\n",
            "test_acc 0.2959\n"
          ]
        },
        {
          "output_type": "stream",
          "name": "stderr",
          "text": [
            "\r 86%|████████▌ | 43/50 [27:51<04:32, 38.89s/it]"
          ]
        },
        {
          "output_type": "stream",
          "name": "stdout",
          "text": [
            "train_acc 0.41168\n",
            "test_acc 0.2951\n"
          ]
        },
        {
          "output_type": "stream",
          "name": "stderr",
          "text": [
            "\r 88%|████████▊ | 44/50 [28:29<03:52, 38.68s/it]"
          ]
        },
        {
          "output_type": "stream",
          "name": "stdout",
          "text": [
            "train_acc 0.41386\n",
            "test_acc 0.2965\n"
          ]
        },
        {
          "output_type": "stream",
          "name": "stderr",
          "text": [
            "\r 90%|█████████ | 45/50 [29:07<03:12, 38.55s/it]"
          ]
        },
        {
          "output_type": "stream",
          "name": "stdout",
          "text": [
            "train_acc 0.41254\n",
            "test_acc 0.2951\n"
          ]
        },
        {
          "output_type": "stream",
          "name": "stderr",
          "text": [
            "\r 92%|█████████▏| 46/50 [29:46<02:34, 38.51s/it]"
          ]
        },
        {
          "output_type": "stream",
          "name": "stdout",
          "text": [
            "train_acc 0.413\n",
            "test_acc 0.2956\n"
          ]
        },
        {
          "output_type": "stream",
          "name": "stderr",
          "text": [
            "\r 94%|█████████▍| 47/50 [30:24<01:55, 38.35s/it]"
          ]
        },
        {
          "output_type": "stream",
          "name": "stdout",
          "text": [
            "train_acc 0.41236\n",
            "test_acc 0.2969\n"
          ]
        },
        {
          "output_type": "stream",
          "name": "stderr",
          "text": [
            "\r 96%|█████████▌| 48/50 [31:02<01:16, 38.35s/it]"
          ]
        },
        {
          "output_type": "stream",
          "name": "stdout",
          "text": [
            "train_acc 0.41332\n",
            "test_acc 0.2973\n"
          ]
        },
        {
          "output_type": "stream",
          "name": "stderr",
          "text": [
            "\r 98%|█████████▊| 49/50 [31:40<00:38, 38.31s/it]"
          ]
        },
        {
          "output_type": "stream",
          "name": "stdout",
          "text": [
            "train_acc 0.4139\n",
            "test_acc 0.2955\n"
          ]
        },
        {
          "output_type": "stream",
          "name": "stderr",
          "text": [
            "100%|██████████| 50/50 [32:19<00:00, 38.79s/it]"
          ]
        },
        {
          "output_type": "stream",
          "name": "stdout",
          "text": [
            "train_acc 0.41518\n",
            "test_acc 0.2983\n"
          ]
        },
        {
          "output_type": "stream",
          "name": "stderr",
          "text": [
            "\n"
          ]
        }
      ]
    },
    {
      "cell_type": "code",
      "source": [
        "plot(accuracy,EPOCH)"
      ],
      "metadata": {
        "colab": {
          "base_uri": "https://localhost:8080/",
          "height": 599
        },
        "id": "mF57YTX9o-fa",
        "outputId": "ea4afd64-2760-4e06-8969-0cc53001078d"
      },
      "execution_count": null,
      "outputs": [
        {
          "output_type": "display_data",
          "data": {
            "text/plain": [
              "<Figure size 700x700 with 1 Axes>"
            ],
            "image/png": "[encoded data removed]"
          },
          "metadata": {}
        }
      ]
    },
    {
      "cell_type": "code",
      "source": [
        "plot(Loss,EPOCH)"
      ],
      "metadata": {
        "colab": {
          "base_uri": "https://localhost:8080/",
          "height": 599
        },
        "id": "5-jpBrJQ4_Ih",
        "outputId": "667f9bab-73e1-43f5-9eae-d19d92dbbe89"
      },
      "execution_count": null,
      "outputs": [
        {
          "output_type": "display_data",
          "data": {
            "text/plain": [
              "<Figure size 700x700 with 1 Axes>"
            ],
            "image/png": "[encoded data removed]"
          },
          "metadata": {}
        }
      ]
    },
    {
      "cell_type": "code",
      "source": [
        "torch.save(dense_net,'dense_net_121_cifar_100.pt')"
      ],
      "metadata": {
        "id": "lTil9lkHzPB2"
      },
      "execution_count": null,
      "outputs": []
    },
    {
      "cell_type": "code",
      "source": [],
      "metadata": {
        "id": "ZsMy05jZzlzo"
      },
      "execution_count": null,
      "outputs": []
    }
  ]
}