{
  "cells": [
    {
      "cell_type": "code",
      "execution_count": null,
      "metadata": {
        "id": "cy_v848tiof0"
      },
      "outputs": [],
      "source": [
        "import torch\n",
        "import torch.nn as nn\n",
        "import torch.nn.functional as F\n",
        "import torchvision\n",
        "import torchvision.transforms as transforms\n",
        "import itertools\n",
        "from sklearn.metrics import accuracy_score, classification_report\n",
        "from tqdm import tqdm\n",
        "from torch.utils.data import random_split\n",
        "from torch.optim.lr_scheduler import StepLR\n",
        "import matplotlib.pyplot as plt"
      ]
    },
    {
      "cell_type": "code",
      "execution_count": null,
      "metadata": {
        "id": "J0uzBW6UtqNl"
      },
      "outputs": [],
      "source": [
        "torch.manual_seed (0)\n",
        "device = torch.device(\"cuda:0\" if torch.cuda.is_available() else \"cpu\")"
      ]
    },
    {
      "cell_type": "code",
      "execution_count": null,
      "metadata": {
        "id": "NknVxV36i8FH"
      },
      "outputs": [],
      "source": [
        "class AllConv (nn.Module):\n",
        "\n",
        "    def __init__(self, n_classes):\n",
        "        super(AllConv, self).__init__()\n",
        "        \n",
        "        self.n_classes = n_classes\n",
        "\n",
        "        self.ipdrop = nn.Dropout (0.2)\n",
        "        self.dropout = nn.Dropout (0.5)\n",
        "        \n",
        "        self.conv_1 = torch.nn.Conv2d(in_channels=3,\n",
        "                                      out_channels=96,\n",
        "                                      kernel_size=(3, 3),\n",
        "                                      stride=(1, 1),\n",
        "                                      padding=1) \n",
        "    \n",
        "        self.conv_2 = torch.nn.Conv2d(in_channels=96,\n",
        "                                      out_channels=96,\n",
        "                                      kernel_size=(3, 3),\n",
        "                                      stride=(1, 1),\n",
        "                                      padding=1)                             \n",
        "        \n",
        "        self.pool_1 = torch.nn.Conv2d(in_channels=96,\n",
        "                                      out_channels=96,\n",
        "                                      kernel_size=(3, 3),\n",
        "                                      stride=(2, 2),\n",
        "                                      padding=1)                  \n",
        "                                    \n",
        "        self.conv_4 = torch.nn.Conv2d(in_channels=96,\n",
        "                                      out_channels=192,\n",
        "                                      kernel_size=(3, 3),\n",
        "                                      stride=(1, 1),\n",
        "                                      padding=1)      \n",
        "        \n",
        "                                    \n",
        "        self.conv_5 = torch.nn.Conv2d(in_channels=192,\n",
        "                                      out_channels=192,\n",
        "                                      kernel_size=(3, 3),\n",
        "                                      stride=(1, 1),\n",
        "                                      padding=1)       \n",
        "                                 \n",
        "        self.pool_2 = torch.nn.Conv2d(in_channels=192,\n",
        "                                      out_channels=192,\n",
        "                                      kernel_size=(3, 3),\n",
        "                                      stride=(2, 2),\n",
        "                                      padding=1)      \n",
        "                                    \n",
        "        self.conv_7 = torch.nn.Conv2d(in_channels=192,\n",
        "                                      out_channels=192,\n",
        "                                      kernel_size=(3, 3),\n",
        "                                      stride=(1, 1),\n",
        "                                      padding=1)\n",
        "\n",
        "        self.conv_8 = torch.nn.Conv2d(in_channels=192,\n",
        "                                      out_channels=192,\n",
        "                                      kernel_size=(1, 1),\n",
        "                                      stride=(1, 1),\n",
        "                                      padding=1)\n",
        "\n",
        "        self.conv_9 = torch.nn.Conv2d(in_channels=192,\n",
        "                                      out_channels=self.n_classes,\n",
        "                                      kernel_size=(1, 1),\n",
        "                                      stride=(1, 1),\n",
        "                                      padding=1)\n",
        "        \n",
        "    def forward(self, x):\n",
        "\n",
        "        out = self.conv_1(x)\n",
        "        out = F.elu(out)\n",
        "        out = self.ipdrop (out)\n",
        "\n",
        "        out = self.conv_2(out)\n",
        "        out = F.elu(out)\n",
        "\n",
        "        out = self.pool_1(out)\n",
        "        out = F.elu(out)\n",
        "\n",
        "        out = self.dropout (out)\n",
        "\n",
        "        out = self.conv_4(out)\n",
        "        out = F.elu(out)\n",
        "        \n",
        "        out = self.conv_5(out)\n",
        "        out = F.elu(out)\n",
        "        \n",
        "        out = self.pool_2(out)\n",
        "        out = F.elu(out)\n",
        "\n",
        "        out = self.dropout (out)\n",
        "        \n",
        "        out = self.conv_7(out)\n",
        "        out = F.elu(out)\n",
        "\n",
        "        out = self.conv_8(out)\n",
        "        out = F.elu(out)\n",
        "\n",
        "        out = self.conv_9(out)\n",
        "        out = F.elu(out)\n",
        "        \n",
        "        logits = F.adaptive_avg_pool2d(out, 1)\n",
        "        # drop width\n",
        "        logits.squeeze_(-1)\n",
        "        # drop height\n",
        "        logits.squeeze_(-1)\n",
        "        preds = torch.softmax(logits, dim=1)\n",
        "        return logits, preds"
      ]
    },
    {
      "cell_type": "code",
      "execution_count": null,
      "metadata": {
        "colab": {
          "base_uri": "https://localhost:8080/"
        },
        "id": "G9gUxMqIrxOa",
        "outputId": "b1080a69-75af-45dd-e8b4-f5df20dbf818"
      },
      "outputs": [
        {
          "output_type": "stream",
          "name": "stdout",
          "text": [
            "Downloading https://www.cs.toronto.edu/~kriz/cifar-100-python.tar.gz to ./data/cifar-100-python.tar.gz\n"
          ]
        },
        {
          "output_type": "stream",
          "name": "stderr",
          "text": [
            "100%|██████████| 169001437/169001437 [00:03<00:00, 45646776.32it/s]\n"
          ]
        },
        {
          "output_type": "stream",
          "name": "stdout",
          "text": [
            "Extracting ./data/cifar-100-python.tar.gz to ./data\n",
            "Files already downloaded and verified\n"
          ]
        }
      ],
      "source": [
        "transform = transforms.Compose(\n",
        "    [transforms.ToTensor(),\n",
        "     transforms.Normalize((0.5, 0.5, 0.5), (0.5, 0.5, 0.5))])\n",
        "\n",
        "batch_size = 128\n",
        "\n",
        "trainset = torchvision.datasets.CIFAR100(root='./data', train=True,\n",
        "                                        download=True, transform=transform)\n",
        "trainloader = torch.utils.data.DataLoader(trainset, batch_size=batch_size,\n",
        "                                          shuffle=True, num_workers=2)\n",
        "\n",
        "# train, valid = random_split (trainset, [len (trainset)*0.8, len (trainset)*0.2])\n",
        "\n",
        "testset = torchvision.datasets.CIFAR100(root='./data', train=False,\n",
        "                                       download=True, transform=transform)\n",
        "\n",
        "testloader = torch.utils.data.DataLoader(testset, batch_size=batch_size,\n",
        "                                         shuffle=False, num_workers=2)\n",
        "\n",
        "classes = ('plane', 'car', 'bird', 'cat',\n",
        "           'deer', 'dog', 'frog', 'horse', 'ship', 'truck')"
      ]
    },
    {
      "cell_type": "code",
      "execution_count": null,
      "metadata": {
        "id": "i_etaqySshX8"
      },
      "outputs": [],
      "source": [
        "loss_function = nn.CrossEntropyLoss ()\n",
        "\n",
        "learning_rate = 1e-3\n",
        "\n",
        "model = AllConv(100)\n",
        "\n",
        "model = model.to(device)\n",
        "\n",
        "epochs = 50\n",
        "\n",
        "optimizer = torch.optim.Adam(model.parameters(), lr=learning_rate) \n",
        "scheduler = StepLR (optimizer, step_size=20, gamma=0.1) "
      ]
    },
    {
      "cell_type": "code",
      "execution_count": null,
      "metadata": {
        "id": "7SEWhVFJI-Kh"
      },
      "outputs": [],
      "source": [
        "def graph_plot(x, vy, ty, ax, colors=['b']):\n",
        "  ax.plot(x, vy, 'b', label=\"Test\")\n",
        "  ax.plot(x, ty, 'r', label=\"Train\")\n",
        "  plt.legend()\n",
        "  plt.grid()\n",
        "  fig.canvas.draw()"
      ]
    },
    {
      "cell_type": "code",
      "execution_count": null,
      "metadata": {
        "id": "MMGTuZIWF3ir"
      },
      "outputs": [],
      "source": [
        "def train_one_epoch (model, optimizer, trainloader):\n",
        "  loss = 0\n",
        "  y_hat = []\n",
        "  y_true = []\n",
        "\n",
        "  for features, targets in trainloader:\n",
        "\n",
        "    features = features.to(device)\n",
        "    targets = targets.to(device)\n",
        "\n",
        "    logits, probas = model(features)\n",
        "    cost = F.cross_entropy(logits, targets)\n",
        "\n",
        "    loss += cost.item ()\n",
        "    optimizer.zero_grad()\n",
        "    \n",
        "    _, predicted_labels = torch.max(probas, 1)\n",
        "    \n",
        "    y_hat.append (predicted_labels.tolist ())\n",
        "    y_true.append (targets.tolist ())\n",
        "    cost.backward()\n",
        "    \n",
        "    ### UPDATE MODEL PARAMETERS\n",
        "    optimizer.step()\n",
        "    i=0\n",
        "    epsilon = 5\n",
        "    with torch.no_grad ():\n",
        "      for name,params in model.named_parameters():\n",
        "        if 'conv_1.weight' or 'conv_1.bias' in name:\n",
        "          continue\n",
        "        newparams=params.detach().clone()\n",
        "        params.copy_(torch.where(newparams < 0, torch.exp(newparams - epsilon), newparams))\n",
        "\n",
        "  y_hat = list (itertools.chain (*y_hat))\n",
        "  y_true = list (itertools.chain (*y_true))\n",
        "  accuracy = accuracy_score (y_hat, y_true)\n",
        "\n",
        "  loss = loss/len (trainloader)\n",
        "\n",
        "  return loss, accuracy"
      ]
    },
    {
      "cell_type": "code",
      "execution_count": null,
      "metadata": {
        "id": "go3Au4nDG_cx"
      },
      "outputs": [],
      "source": [
        "def test_one_epoch (model, testloader):\n",
        "  y_hat = []\n",
        "  y_true = []\n",
        "\n",
        "  loss = 0\n",
        "\n",
        "  for features, targets in testloader:\n",
        "\n",
        "    features = features.to(device)\n",
        "    targets = targets.to(device)\n",
        "\n",
        "    logits, probas = model(features)\n",
        "    \n",
        "    _, predicted_labels = torch.max(probas, 1)\n",
        "    \n",
        "    cost = F.cross_entropy(logits, targets)\n",
        "    loss += cost.item ()\n",
        "\n",
        "    y_hat.append (predicted_labels.tolist ())\n",
        "    y_true.append (targets.tolist ())\n",
        "  \n",
        "  y_hat = list (itertools.chain (*y_hat))\n",
        "  y_true = list (itertools.chain (*y_true))\n",
        "  accuracy = accuracy_score (y_hat, y_true)\n",
        "  \n",
        "  loss = loss/len (testloader)\n",
        "\n",
        "  return loss, accuracy"
      ]
    },
    {
      "cell_type": "code",
      "execution_count": null,
      "metadata": {
        "colab": {
          "base_uri": "https://localhost:8080/"
        },
        "id": "2SSaDc7nuCPI",
        "outputId": "82389e06-b243-43cd-e961-a5dfb07185a2"
      },
      "outputs": [
        {
          "output_type": "stream",
          "name": "stderr",
          "text": [
            "100%|██████████| 50/50 [19:57<00:00, 23.96s/it]\n"
          ]
        }
      ],
      "source": [
        "train_losses = []\n",
        "train_accuracies = []\n",
        "\n",
        "test_losses = []\n",
        "test_accuracies = []\n",
        "\n",
        "for epoch in tqdm (range (epochs)):\n",
        "  model = model.train()\n",
        "  loss, accuracy = train_one_epoch (model, optimizer, trainloader)\n",
        "  train_losses.append (loss)\n",
        "  train_accuracies.append (accuracy)\n",
        "  scheduler.step ()\n",
        "\n",
        "  with torch.no_grad ():\n",
        "    model = model.eval ()\n",
        "    loss, accuracy = test_one_epoch (model, testloader)\n",
        "    test_losses.append (loss)\n",
        "    test_accuracies.append (accuracy)"
      ]
    },
    {
      "cell_type": "code",
      "execution_count": null,
      "metadata": {
        "colab": {
          "base_uri": "https://localhost:8080/",
          "height": 472
        },
        "id": "u9eHUoqLJtDO",
        "outputId": "4d5395c6-d6d5-4ba3-e2f4-fcbeef7d2815"
      },
      "outputs": [
        {
          "output_type": "display_data",
          "data": {
            "text/plain": [
              "<Figure size 640x480 with 1 Axes>"
            ],
            "image/png": "[encoded data removed]"
          },
          "metadata": {}
        }
      ],
      "source": [
        "fig, ax = plt.subplots(1,1)\n",
        "ax.set_xlabel('Epochs->')  \n",
        "ax.set_ylabel('Accuracy->')\n",
        "ax.set_title('Accuracy on CIFAR100 Dataset', fontweight=\"bold\")\n",
        "\n",
        "x = list(range(1, epochs+1))\n",
        "\n",
        "vy = test_accuracies\n",
        "ty = train_accuracies\n",
        "\n",
        "graph_plot(x, vy, ty, ax)"
      ]
    },
    {
      "cell_type": "code",
      "execution_count": null,
      "metadata": {
        "colab": {
          "base_uri": "https://localhost:8080/",
          "height": 472
        },
        "id": "FoMyq9NjJ5xO",
        "outputId": "0e447aee-ee47-4982-b45d-b4e6c1a469aa"
      },
      "outputs": [
        {
          "output_type": "display_data",
          "data": {
            "text/plain": [
              "<Figure size 640x480 with 1 Axes>"
            ],
            "image/png": "[encoded data removed]"
          },
          "metadata": {}
        }
      ],
      "source": [
        "fig,ax = plt.subplots(1,1)\n",
        "ax.set_xlabel('Epochs->')  \n",
        "ax.set_ylabel('Crossentropy Loss->')\n",
        "ax.set_title('Crossentropy Loss on CIFAR100 Dataset', fontweight=\"bold\")\n",
        "\n",
        "x = list(range(1, epochs+1))\n",
        "\n",
        "vy = test_losses\n",
        "ty = train_losses\n",
        "\n",
        "graph_plot(x, vy, ty, ax)"
      ]
    },
    {
      "cell_type": "code",
      "execution_count": null,
      "metadata": {
        "colab": {
          "base_uri": "https://localhost:8080/"
        },
        "id": "n8ydC0Oq21v8",
        "outputId": "8a1ba480-fa91-440a-80cb-2544bae46658"
      },
      "outputs": [
        {
          "output_type": "stream",
          "name": "stdout",
          "text": [
            "0.4517403187806649 2.0656496769265282\n"
          ]
        }
      ],
      "source": [
        "print (train_losses [-1], test_losses [-1])"
      ]
    },
    {
      "cell_type": "code",
      "source": [
        "for data in model.named_parameters ():\n",
        "  print (data [0])"
      ],
      "metadata": {
        "colab": {
          "base_uri": "https://localhost:8080/"
        },
        "id": "iehFi1gA57Zl",
        "outputId": "ac6aa915-37ec-49a9-9176-e70c82a1dfad"
      },
      "execution_count": null,
      "outputs": [
        {
          "output_type": "stream",
          "name": "stdout",
          "text": [
            "conv_1.weight\n",
            "conv_1.bias\n",
            "conv_2.weight\n",
            "conv_2.bias\n",
            "pool_1.weight\n",
            "pool_1.bias\n",
            "conv_4.weight\n",
            "conv_4.bias\n",
            "conv_5.weight\n",
            "conv_5.bias\n",
            "pool_2.weight\n",
            "pool_2.bias\n",
            "conv_7.weight\n",
            "conv_7.bias\n",
            "conv_8.weight\n",
            "conv_8.bias\n",
            "conv_9.weight\n",
            "conv_9.bias\n"
          ]
        }
      ]
    },
    {
      "cell_type": "code",
      "source": [
        "print (train_accuracies [-1], test_accuracies [-1])"
      ],
      "metadata": {
        "colab": {
          "base_uri": "https://localhost:8080/"
        },
        "id": "lGRyp3bywylj",
        "outputId": "26d3aeba-6764-47f0-e32b-662d5461c842"
      },
      "execution_count": null,
      "outputs": [
        {
          "output_type": "stream",
          "name": "stdout",
          "text": [
            "0.8575 0.5795\n"
          ]
        }
      ]
    },
    {
      "cell_type": "code",
      "source": [
        "print (\"generalisation gap: \", train_accuracies [-1] - test_accuracies [-1])"
      ],
      "metadata": {
        "colab": {
          "base_uri": "https://localhost:8080/"
        },
        "id": "kIC1cCZErDsH",
        "outputId": "f91fdf7b-8a67-493f-b863-5a85f4be9106"
      },
      "execution_count": null,
      "outputs": [
        {
          "output_type": "stream",
          "name": "stdout",
          "text": [
            "generalisation gap:  0.278\n"
          ]
        }
      ]
    },
    {
      "cell_type": "code",
      "source": [
        "torch.save(model.state_dict(), 'ioc_allconv_cifar100.pt')"
      ],
      "metadata": {
        "id": "8fcNtpRerUev"
      },
      "execution_count": null,
      "outputs": []
    }
  ],
  "metadata": {
    "accelerator": "GPU",
    "colab": {
      "provenance": []
    },
    "gpuClass": "standard",
    "kernelspec": {
      "display_name": "Python 3",
      "name": "python3"
    },
    "language_info": {
      "name": "python"
    }
  },
  "nbformat": 4,
  "nbformat_minor": 0
}