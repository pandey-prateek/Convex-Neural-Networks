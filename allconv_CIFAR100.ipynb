{
  "nbformat": 4,
  "nbformat_minor": 0,
  "metadata": {
    "colab": {
      "provenance": []
    },
    "kernelspec": {
      "name": "python3",
      "display_name": "Python 3"
    },
    "language_info": {
      "name": "python"
    },
    "accelerator": "GPU",
    "gpuClass": "standard"
  },
  "cells": [
    {
      "cell_type": "code",
      "execution_count": 14,
      "metadata": {
        "id": "cy_v848tiof0"
      },
      "outputs": [],
      "source": [
        "import torch\n",
        "import torch.nn as nn\n",
        "import torch.nn.functional as F\n",
        "import torchvision\n",
        "import torchvision.transforms as transforms\n",
        "import itertools\n",
        "from sklearn.metrics import accuracy_score, classification_report\n",
        "from tqdm import tqdm\n",
        "from torch.utils.data import random_split\n",
        "from torch.optim.lr_scheduler import StepLR\n",
        "import matplotlib.pyplot as plt"
      ]
    },
    {
      "cell_type": "code",
      "source": [
        "torch.manual_seed (0)\n",
        "device = torch.device(\"cuda:0\" if torch.cuda.is_available() else \"cpu\")"
      ],
      "metadata": {
        "id": "J0uzBW6UtqNl"
      },
      "execution_count": 15,
      "outputs": []
    },
    {
      "cell_type": "code",
      "source": [
        "class AllConv (nn.Module):\n",
        "\n",
        "    def __init__(self, n_classes):\n",
        "        super(AllConv, self).__init__()\n",
        "        \n",
        "        self.n_classes = n_classes\n",
        "\n",
        "        self.ipdrop = nn.Dropout (0.2)\n",
        "        self.dropout = nn.Dropout (0.5)\n",
        "        \n",
        "        self.conv_1 = torch.nn.Conv2d(in_channels=3,\n",
        "                                      out_channels=96,\n",
        "                                      kernel_size=(3, 3),\n",
        "                                      stride=(1, 1),\n",
        "                                      padding=1) \n",
        "    \n",
        "        self.conv_2 = torch.nn.Conv2d(in_channels=96,\n",
        "                                      out_channels=96,\n",
        "                                      kernel_size=(3, 3),\n",
        "                                      stride=(1, 1),\n",
        "                                      padding=1)                             \n",
        "        \n",
        "        self.pool_1 = torch.nn.Conv2d(in_channels=96,\n",
        "                                      out_channels=96,\n",
        "                                      kernel_size=(3, 3),\n",
        "                                      stride=(2, 2),\n",
        "                                      padding=1)                  \n",
        "                                    \n",
        "        self.conv_4 = torch.nn.Conv2d(in_channels=96,\n",
        "                                      out_channels=192,\n",
        "                                      kernel_size=(3, 3),\n",
        "                                      stride=(1, 1),\n",
        "                                      padding=1)      \n",
        "        \n",
        "                                    \n",
        "        self.conv_5 = torch.nn.Conv2d(in_channels=192,\n",
        "                                      out_channels=192,\n",
        "                                      kernel_size=(3, 3),\n",
        "                                      stride=(1, 1),\n",
        "                                      padding=1)       \n",
        "                                 \n",
        "        self.pool_2 = torch.nn.Conv2d(in_channels=192,\n",
        "                                      out_channels=192,\n",
        "                                      kernel_size=(3, 3),\n",
        "                                      stride=(2, 2),\n",
        "                                      padding=1)      \n",
        "                                    \n",
        "        self.conv_7 = torch.nn.Conv2d(in_channels=192,\n",
        "                                      out_channels=192,\n",
        "                                      kernel_size=(3, 3),\n",
        "                                      stride=(1, 1),\n",
        "                                      padding=1)\n",
        "\n",
        "        self.conv_8 = torch.nn.Conv2d(in_channels=192,\n",
        "                                      out_channels=192,\n",
        "                                      kernel_size=(1, 1),\n",
        "                                      stride=(1, 1),\n",
        "                                      padding=1)\n",
        "\n",
        "        self.conv_9 = torch.nn.Conv2d(in_channels=192,\n",
        "                                      out_channels=self.n_classes,\n",
        "                                      kernel_size=(1, 1),\n",
        "                                      stride=(1, 1),\n",
        "                                      padding=1)\n",
        "        \n",
        "    def forward(self, x):\n",
        "\n",
        "        out = self.conv_1(x)\n",
        "        out = F.relu(out)\n",
        "\n",
        "        out = self.ipdrop (out)\n",
        "\n",
        "        out = self.conv_2(out)\n",
        "        out = F.relu(out)\n",
        "\n",
        "        out = self.pool_1(out)\n",
        "        out = F.relu(out)\n",
        "\n",
        "        out = self.dropout (out)\n",
        "\n",
        "        out = self.conv_4(out)\n",
        "        out = F.relu(out)\n",
        "        \n",
        "        out = self.conv_5(out)\n",
        "        out = F.relu(out)\n",
        "        \n",
        "        out = self.pool_2(out)\n",
        "        out = F.relu(out)\n",
        "\n",
        "        out = self.dropout (out)\n",
        "        \n",
        "        out = self.conv_7(out)\n",
        "        out = F.relu(out)\n",
        "\n",
        "        out = self.conv_8(out)\n",
        "        out = F.relu(out)\n",
        "\n",
        "        out = self.conv_9(out)\n",
        "        out = F.relu(out)\n",
        "        \n",
        "        logits = F.adaptive_avg_pool2d(out, 1)\n",
        "        # drop width\n",
        "        logits.squeeze_(-1)\n",
        "        # drop height\n",
        "        logits.squeeze_(-1)\n",
        "        preds = torch.softmax(logits, dim=1)\n",
        "        return logits, preds"
      ],
      "metadata": {
        "id": "NknVxV36i8FH"
      },
      "execution_count": 16,
      "outputs": []
    },
    {
      "cell_type": "code",
      "source": [
        "transform = transforms.Compose(\n",
        "    [transforms.ToTensor(),\n",
        "     transforms.Normalize((0.5, 0.5, 0.5), (0.5, 0.5, 0.5))])\n",
        "\n",
        "batch_size = 128\n",
        "\n",
        "trainset = torchvision.datasets.CIFAR100(root='./data', train=True,\n",
        "                                        download=True, transform=transform)\n",
        "trainloader = torch.utils.data.DataLoader(trainset, batch_size=batch_size,\n",
        "                                          shuffle=True, num_workers=2)\n",
        "\n",
        "# train, valid = random_split (trainset, [len (trainset)*0.8, len (trainset)*0.2])\n",
        "\n",
        "testset = torchvision.datasets.CIFAR100(root='./data', train=False,\n",
        "                                       download=True, transform=transform)\n",
        "\n",
        "testloader = torch.utils.data.DataLoader(testset, batch_size=batch_size,\n",
        "                                         shuffle=False, num_workers=2)"
      ],
      "metadata": {
        "colab": {
          "base_uri": "https://localhost:8080/"
        },
        "id": "G9gUxMqIrxOa",
        "outputId": "544ceaa6-4a7e-4c8e-bf91-bea4ca4271f5"
      },
      "execution_count": 17,
      "outputs": [
        {
          "output_type": "stream",
          "name": "stdout",
          "text": [
            "Downloading https://www.cs.toronto.edu/~kriz/cifar-100-python.tar.gz to ./data/cifar-100-python.tar.gz\n"
          ]
        },
        {
          "output_type": "stream",
          "name": "stderr",
          "text": [
            "100%|██████████| 169001437/169001437 [00:12<00:00, 13111122.60it/s]\n"
          ]
        },
        {
          "output_type": "stream",
          "name": "stdout",
          "text": [
            "Extracting ./data/cifar-100-python.tar.gz to ./data\n",
            "Files already downloaded and verified\n"
          ]
        }
      ]
    },
    {
      "cell_type": "code",
      "source": [
        "loss_function = nn.CrossEntropyLoss ()\n",
        "\n",
        "learning_rate = 1e-3\n",
        "\n",
        "model = AllConv(100)\n",
        "\n",
        "model = model.to(device)\n",
        "\n",
        "epochs = 50\n",
        "\n",
        "optimizer = torch.optim.Adam(model.parameters(), lr=learning_rate) \n",
        "scheduler = StepLR (optimizer, step_size=30, gamma=0.1) "
      ],
      "metadata": {
        "id": "i_etaqySshX8"
      },
      "execution_count": 18,
      "outputs": []
    },
    {
      "cell_type": "code",
      "source": [
        "def graph_plot(x, vy, ty, ax, colors=['b']):\n",
        "  ax.plot(x, vy, 'b', label=\"Test\")\n",
        "  ax.plot(x, ty, 'r', label=\"Train\")\n",
        "  plt.legend()\n",
        "  plt.grid()\n",
        "  fig.canvas.draw()"
      ],
      "metadata": {
        "id": "7SEWhVFJI-Kh"
      },
      "execution_count": 19,
      "outputs": []
    },
    {
      "cell_type": "code",
      "source": [
        "def train_one_epoch (model, optimizer, trainloader):\n",
        "  loss = 0\n",
        "  y_hat = []\n",
        "  y_true = []\n",
        "\n",
        "  for features, targets in trainloader:\n",
        "\n",
        "    features = features.to(device)\n",
        "    targets = targets.to(device)\n",
        "\n",
        "    logits, probas = model(features)\n",
        "    cost = F.cross_entropy(logits, targets)\n",
        "\n",
        "    loss += cost.item ()\n",
        "    optimizer.zero_grad()\n",
        "    \n",
        "    _, predicted_labels = torch.max(probas, 1)\n",
        "    \n",
        "    y_hat.append (predicted_labels.tolist ())\n",
        "    y_true.append (targets.tolist ())\n",
        "    cost.backward()\n",
        "    \n",
        "    ### UPDATE MODEL PARAMETERS\n",
        "    optimizer.step()\n",
        "\n",
        "  y_hat = list (itertools.chain (*y_hat))\n",
        "  y_true = list (itertools.chain (*y_true))\n",
        "  accuracy = accuracy_score (y_hat, y_true)\n",
        "\n",
        "  loss = loss/len (trainloader)\n",
        "\n",
        "  return loss, accuracy"
      ],
      "metadata": {
        "id": "MMGTuZIWF3ir"
      },
      "execution_count": 20,
      "outputs": []
    },
    {
      "cell_type": "code",
      "source": [
        "def test_one_epoch (model, testloader):\n",
        "  y_hat = []\n",
        "  y_true = []\n",
        "\n",
        "  loss = 0\n",
        "\n",
        "  for features, targets in testloader:\n",
        "\n",
        "    features = features.to(device)\n",
        "    targets = targets.to(device)\n",
        "\n",
        "    logits, probas = model(features)\n",
        "    \n",
        "    _, predicted_labels = torch.max(probas, 1)\n",
        "    \n",
        "    cost = F.cross_entropy(logits, targets)\n",
        "    loss += cost.item ()\n",
        "\n",
        "    y_hat.append (predicted_labels.tolist ())\n",
        "    y_true.append (targets.tolist ())\n",
        "  \n",
        "  y_hat = list (itertools.chain (*y_hat))\n",
        "  y_true = list (itertools.chain (*y_true))\n",
        "  accuracy = accuracy_score (y_hat, y_true)\n",
        "  \n",
        "  loss = loss/len (testloader)\n",
        "\n",
        "  return loss, accuracy"
      ],
      "metadata": {
        "id": "go3Au4nDG_cx"
      },
      "execution_count": 21,
      "outputs": []
    },
    {
      "cell_type": "code",
      "source": [
        "train_losses = []\n",
        "train_accuracies = []\n",
        "\n",
        "test_losses = []\n",
        "test_accuracies = []\n",
        "\n",
        "for epoch in tqdm (range (epochs)):\n",
        "  model = model.train()\n",
        "  loss, accuracy = train_one_epoch (model, optimizer, trainloader)\n",
        "  train_losses.append (loss)\n",
        "  train_accuracies.append (accuracy)\n",
        "  scheduler.step ()\n",
        "\n",
        "  with torch.no_grad ():\n",
        "    model = model.eval ()\n",
        "    loss, accuracy = test_one_epoch (model, testloader)\n",
        "    test_losses.append (loss)\n",
        "    test_accuracies.append (accuracy)"
      ],
      "metadata": {
        "colab": {
          "base_uri": "https://localhost:8080/"
        },
        "id": "2SSaDc7nuCPI",
        "outputId": "381e546d-99ff-42d1-a561-8739cd54f934"
      },
      "execution_count": 22,
      "outputs": [
        {
          "output_type": "stream",
          "name": "stderr",
          "text": [
            "100%|██████████| 50/50 [19:41<00:00, 23.62s/it]\n"
          ]
        }
      ]
    },
    {
      "cell_type": "code",
      "source": [
        "fig, ax = plt.subplots(1,1)\n",
        "ax.set_xlabel('Epochs->')  \n",
        "ax.set_ylabel('Accuracy->')\n",
        "ax.set_title('Accuracy on CIFAR100 Dataset', fontweight=\"bold\")\n",
        "\n",
        "x = list(range(1, epochs+1))\n",
        "\n",
        "vy = test_accuracies\n",
        "ty = train_accuracies\n",
        "\n",
        "graph_plot(x, vy, ty, ax)"
      ],
      "metadata": {
        "colab": {
          "base_uri": "https://localhost:8080/",
          "height": 472
        },
        "id": "u9eHUoqLJtDO",
        "outputId": "38b66852-ada6-4014-d21d-0e345c0047f1"
      },
      "execution_count": 23,
      "outputs": [
        {
          "output_type": "display_data",
          "data": {
            "text/plain": [
              "<Figure size 640x480 with 1 Axes>"
            ],
            "image/png": "[encoded data removed]"
          },
          "metadata": {}
        }
      ]
    },
    {
      "cell_type": "code",
      "source": [
        "fig,ax = plt.subplots(1,1)\n",
        "ax.set_xlabel('Epochs->')  \n",
        "ax.set_ylabel('Crossentropy Loss->')\n",
        "ax.set_title('Crossentropy Loss on CIFAR100 Dataset', fontweight=\"bold\")\n",
        "\n",
        "x = list(range(1, epochs+1))\n",
        "\n",
        "vy = test_losses\n",
        "ty = train_losses\n",
        "\n",
        "graph_plot(x, vy, ty, ax)"
      ],
      "metadata": {
        "colab": {
          "base_uri": "https://localhost:8080/",
          "height": 472
        },
        "id": "FoMyq9NjJ5xO",
        "outputId": "1b627ec6-0285-4d54-9206-d75e256b7e88"
      },
      "execution_count": 24,
      "outputs": [
        {
          "output_type": "display_data",
          "data": {
            "text/plain": [
              "<Figure size 640x480 with 1 Axes>"
            ],
            "image/png": "[encoded data removed]"
          },
          "metadata": {}
        }
      ]
    },
    {
      "cell_type": "code",
      "source": [
        "print (train_accuracies [-1], test_accuracies [-1])"
      ],
      "metadata": {
        "colab": {
          "base_uri": "https://localhost:8080/"
        },
        "id": "_6tlIpiM8fyw",
        "outputId": "0b16d020-ca96-4290-f6c1-14a519d0c512"
      },
      "execution_count": 25,
      "outputs": [
        {
          "output_type": "stream",
          "name": "stdout",
          "text": [
            "0.53584 0.4286\n"
          ]
        }
      ]
    },
    {
      "cell_type": "code",
      "source": [
        "print (\"generalization gap: \", train_accuracies [-1] - test_accuracies [-1])"
      ],
      "metadata": {
        "colab": {
          "base_uri": "https://localhost:8080/"
        },
        "id": "biwVx0i98O97",
        "outputId": "503d7d7e-16e9-45c3-d9fb-0dc104466f2f"
      },
      "execution_count": 26,
      "outputs": [
        {
          "output_type": "stream",
          "name": "stdout",
          "text": [
            "generalization gap:  0.10724\n"
          ]
        }
      ]
    }
  ]
}