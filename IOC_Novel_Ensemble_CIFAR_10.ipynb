{
  "nbformat": 4,
  "nbformat_minor": 0,
  "metadata": {
    "colab": {
      "provenance": [],
      "gpuType": "T4"
    },
    "kernelspec": {
      "name": "python3",
      "display_name": "Python 3"
    },
    "language_info": {
      "name": "python"
    },
    "accelerator": "GPU",
    "gpuClass": "standard"
  },
  "cells": [
    {
      "cell_type": "code",
      "execution_count": null,
      "metadata": {
        "id": "6rjJnlB_Vceo"
      },
      "outputs": [],
      "source": [
        "import os\n",
        "import time\n",
        "\n",
        "import numpy as np\n",
        "import pandas as pd\n",
        "import sklearn\n",
        "import torch\n",
        "import torch.nn as nn\n",
        "import torch.nn.functional as F\n",
        "from torch.utils.data import DataLoader\n",
        "import torch.optim as optim\n",
        "from torchvision import datasets\n",
        "from torchvision import transforms\n",
        "from sklearn.metrics import accuracy_score\n",
        "import matplotlib.pyplot as plt\n",
        "\n",
        "from tqdm import tqdm\n",
        "import warnings\n",
        "import matplotlib.pyplot as plt\n",
        "%matplotlib inline\n",
        "warnings.filterwarnings(\"ignore\")\n",
        "device = torch.device('cuda' if torch.cuda.is_available() else 'cpu')\n"
      ]
    },
    {
      "cell_type": "code",
      "source": [
        "transform = transforms.Compose([\n",
        "                    transforms.ToTensor(), \n",
        "            ])\n",
        "\n",
        "testset = datasets.CIFAR10(root='./data', train=False, download=True, transform=transform)\n",
        "trainset = datasets.CIFAR10(root='./data', train=True, download=True, transform=transform)\n",
        "train_loader = torch.utils.data.DataLoader(trainset, batch_size=128\n",
        "                                                    , shuffle=True, num_workers=4)\n",
        "\n",
        "test_loader = torch.utils.data.DataLoader(testset,batch_size=128\n",
        "                                                     , shuffle=True, num_workers=4)\n"
      ],
      "metadata": {
        "colab": {
          "base_uri": "https://localhost:8080/"
        },
        "id": "rK1TOZoa1ac5",
        "outputId": "ff2dafa0-80b4-4f07-cf73-7c9cb3a15b42"
      },
      "execution_count": null,
      "outputs": [
        {
          "output_type": "stream",
          "name": "stdout",
          "text": [
            "Downloading https://www.cs.toronto.edu/~kriz/cifar-10-python.tar.gz to ./data/cifar-10-python.tar.gz\n"
          ]
        },
        {
          "output_type": "stream",
          "name": "stderr",
          "text": [
            "100%|██████████| 170498071/170498071 [00:13<00:00, 12462719.73it/s]\n"
          ]
        },
        {
          "output_type": "stream",
          "name": "stdout",
          "text": [
            "Extracting ./data/cifar-10-python.tar.gz to ./data\n",
            "Files already downloaded and verified\n"
          ]
        }
      ]
    },
    {
      "cell_type": "code",
      "source": [
        "input_dim=trainset[0][0].shape[0]*trainset[0][0].shape[1]*trainset[0][0].shape[2]"
      ],
      "metadata": {
        "id": "V0pAfpyv1jJ-"
      },
      "execution_count": null,
      "outputs": []
    },
    {
      "cell_type": "code",
      "source": [
        "all_train_labels = []\n",
        "all_test_labels = []\n",
        "all_val_labels = []\n",
        "\n",
        "for images, labels in train_loader:  \n",
        "    all_train_labels.append(labels)\n",
        "all_train_labels = torch.cat(all_train_labels)\n",
        "    \n",
        "for images, labels in test_loader:  \n",
        "    all_test_labels.append(labels)\n",
        "all_test_labels = torch.cat(all_test_labels)\n",
        "\n",
        "\n",
        "\n",
        "print('Training labels:', torch.unique(all_train_labels))\n",
        "print('Training label distribution:', torch.bincount(all_train_labels))\n",
        "\n",
        "print('\\nTest labels:', torch.unique(all_test_labels))\n",
        "print('Test label distribution:', torch.bincount(all_test_labels))\n",
        "\n",
        "\n"
      ],
      "metadata": {
        "colab": {
          "base_uri": "https://localhost:8080/"
        },
        "id": "v0Ufl6pP2Tkd",
        "outputId": "19543780-708e-45fe-a864-2e772a921d00"
      },
      "execution_count": null,
      "outputs": [
        {
          "output_type": "stream",
          "name": "stdout",
          "text": [
            "Training labels: tensor([0, 1, 2, 3, 4, 5, 6, 7, 8, 9])\n",
            "Training label distribution: tensor([5000, 5000, 5000, 5000, 5000, 5000, 5000, 5000, 5000, 5000])\n",
            "\n",
            "Test labels: tensor([0, 1, 2, 3, 4, 5, 6, 7, 8, 9])\n",
            "Test label distribution: tensor([1000, 1000, 1000, 1000, 1000, 1000, 1000, 1000, 1000, 1000])\n"
          ]
        }
      ]
    },
    {
      "cell_type": "code",
      "source": [
        "import re\n",
        "from collections import OrderedDict\n",
        "from functools import partial\n",
        "from typing import Any, List, Optional, Tuple\n",
        "\n",
        "import torch\n",
        "import torch.nn as nn\n",
        "import torch.nn.functional as F\n",
        "import torch.utils.checkpoint as cp\n",
        "from torch import Tensor\n",
        "\n",
        "\n",
        "class _DenseLayer(nn.Module):\n",
        "    def __init__(self, num_input_features, growth_rate, bn_size, drop_rate) :\n",
        "        super(_DenseLayer,self).__init__()\n",
        "        self.denselayers = nn.Sequential(\n",
        "            OrderedDict(\n",
        "                [   (\"norm1\", nn.BatchNorm2d(num_input_features)),\n",
        "                    (\"elu1\", nn.ELU(inplace=True)),\n",
        "                    (\"conv1\", nn.Conv2d(num_input_features, bn_size * growth_rate, kernel_size=1, stride=1, bias=False)),\n",
        "                    (\"norm2\", nn.BatchNorm2d(bn_size * growth_rate)),\n",
        "                    (\"elu2\", nn.ELU(inplace=True)),\n",
        "                    (\"conv2\", nn.Conv2d(bn_size * growth_rate, growth_rate, kernel_size=3, stride=1, padding=1, bias=False)),\n",
        "                ]\n",
        "            )\n",
        "        )\n",
        "        self.drop_rate=drop_rate\n",
        "\n",
        "\n",
        "    def forward(self, input):\n",
        "        concated_features = torch.cat(input, 1)\n",
        "        new_features = self.denselayers(concated_features)\n",
        "        new_features = F.dropout(new_features, p=self.drop_rate, training=self.training)\n",
        "        return new_features\n",
        "\n",
        "\n",
        "class _DenseBlock(nn.ModuleDict):\n",
        "\n",
        "    def __init__(self,num_layers,num_input_features,bn_size,growth_rate,drop_rate):\n",
        "        super(_DenseBlock,self).__init__()\n",
        "        for i in range(num_layers):\n",
        "            layer = _DenseLayer(num_input_features + i * growth_rate,\n",
        "                growth_rate=growth_rate,\n",
        "                bn_size=bn_size,\n",
        "                drop_rate=drop_rate\n",
        "            )\n",
        "            self.add_module(\"dl%d\" % (i + 1), layer)\n",
        "\n",
        "    def forward(self, init_features):\n",
        "        features = [init_features]\n",
        "        for name, layer in self.items():\n",
        "            new_features = layer(features)\n",
        "            features.append(new_features)\n",
        "        return torch.cat(features, 1)\n",
        "\n",
        "\n",
        "class _Transition(nn.Sequential):\n",
        "    def __init__(self, num_input_features, num_output_features):\n",
        "        super(_Transition,self).__init__()\n",
        "        self.norm = nn.BatchNorm2d(num_input_features)\n",
        "        self.elu = nn.ELU(inplace=True)\n",
        "        self.conv = nn.Conv2d(num_input_features, num_output_features, kernel_size=1, stride=1, bias=False)\n",
        "        self.pool = nn.AvgPool2d(kernel_size=2, stride=2)\n",
        "\n",
        "\n",
        "class DenseNet(nn.Module):\n",
        "\n",
        "    def __init__(self,growth_rate= 32,block_config=[6, 12, 24, 16],num_init_features= 64,bn_size= 4,drop_rate = 0,num_classes = 1000):\n",
        "\n",
        "        super(DenseNet,self).__init__()\n",
        "\n",
        "        self.features = nn.Sequential(\n",
        "            OrderedDict(\n",
        "                [\n",
        "                    (\"conv0\", nn.Conv2d(3, num_init_features, kernel_size=7, stride=2, padding=3, bias=False)),\n",
        "                    (\"norm0\", nn.BatchNorm2d(num_init_features)),\n",
        "                    (\"ELU0\", nn.ELU(inplace=True)),\n",
        "                    (\"pool0\", nn.MaxPool2d(kernel_size=3, stride=2, padding=1)),\n",
        "                ]\n",
        "            )\n",
        "        )\n",
        "\n",
        "        num_features = num_init_features\n",
        "        for i, num_layers in enumerate(block_config):\n",
        "            block = _DenseBlock(\n",
        "                num_layers=num_layers,\n",
        "                num_input_features=num_features,\n",
        "                bn_size=bn_size,\n",
        "                growth_rate=growth_rate,\n",
        "                drop_rate=drop_rate\n",
        "            )\n",
        "            self.features.add_module(\"db%d\" % (i + 1), block)\n",
        "            num_features = num_features + num_layers * growth_rate\n",
        "            if i != len(block_config) - 1:\n",
        "                trans = _Transition(num_input_features=num_features, num_output_features=num_features // 2)\n",
        "                self.features.add_module(\"transition%d\" % (i + 1), trans)\n",
        "                num_features = num_features // 2\n",
        "\n",
        "        self.features.add_module(\"norm5\", nn.BatchNorm2d(num_features))\n",
        "        self.classifier = nn.Linear(num_features, num_classes)\n",
        "\n",
        "    def forward(self, x):\n",
        "        \n",
        "        features = self.features(x)\n",
        "        out = F.elu(features, inplace=True)\n",
        "        \n",
        "        out = F.adaptive_avg_pool2d(out, (1, 1))\n",
        "        out = torch.flatten(out, 1)\n",
        "        out = self.classifier(out)\n",
        "        out = F.softmax(out,dim=1)\n",
        "        return out\n",
        "class AllConv (nn.Module):\n",
        "\n",
        "    def __init__(self, n_classes):\n",
        "        super(AllConv, self).__init__()\n",
        "        \n",
        "        self.n_classes = n_classes\n",
        "\n",
        "        self.ipdrop = nn.Dropout (0.2)\n",
        "        self.dropout = nn.Dropout (0.5)\n",
        "        \n",
        "        self.conv_1 = torch.nn.Conv2d(in_channels=3,\n",
        "                                      out_channels=96,\n",
        "                                      kernel_size=(3, 3),\n",
        "                                      stride=(1, 1),\n",
        "                                      padding=1) \n",
        "    \n",
        "        self.conv_2 = torch.nn.Conv2d(in_channels=96,\n",
        "                                      out_channels=96,\n",
        "                                      kernel_size=(3, 3),\n",
        "                                      stride=(1, 1),\n",
        "                                      padding=1)                             \n",
        "        \n",
        "        self.pool_1 = torch.nn.Conv2d(in_channels=96,\n",
        "                                      out_channels=96,\n",
        "                                      kernel_size=(3, 3),\n",
        "                                      stride=(2, 2),\n",
        "                                      padding=1)                  \n",
        "                                    \n",
        "        self.conv_3 = torch.nn.Conv2d(in_channels=96,\n",
        "                                      out_channels=192,\n",
        "                                      kernel_size=(3, 3),\n",
        "                                      stride=(1, 1),\n",
        "                                      padding=1)      \n",
        "        \n",
        "                                    \n",
        "        self.conv_4 = torch.nn.Conv2d(in_channels=192,\n",
        "                                      out_channels=self.n_classes,\n",
        "                                      kernel_size=(3, 3),\n",
        "                                      stride=(1, 1),\n",
        "                                      padding=1)       \n",
        "                                 \n",
        "        self.pool_2 = torch.nn.Conv2d(in_channels=192,\n",
        "                                      out_channels=192,\n",
        "                                      kernel_size=(3, 3),\n",
        "                                      stride=(2, 2),\n",
        "                                      padding=1)      \n",
        "                                    \n",
        "        \n",
        "        \n",
        "    def forward(self, x):\n",
        "        x = self.ipdrop (x)\n",
        "\n",
        "        out = self.conv_1(x)\n",
        "        out = F.elu(out)\n",
        "\n",
        "        out = self.conv_2(out)\n",
        "        out = F.elu(out)\n",
        "\n",
        "        out = self.pool_1(out)\n",
        "        out = F.elu(out)\n",
        "\n",
        "        out = self.dropout (out)\n",
        "\n",
        "        out = self.conv_3(out)\n",
        "        out = F.elu(out)\n",
        "        \n",
        "        out = self.conv_4(out)\n",
        "        out = F.elu(out)\n",
        "        \n",
        "        logits = F.adaptive_avg_pool2d(out, 1)\n",
        "        # drop width\n",
        "        logits.squeeze_(-1)\n",
        "        # drop height\n",
        "        logits.squeeze_(-1)\n",
        "        preds = torch.softmax(logits, dim=1)\n",
        "        return logits\n",
        "class MLP(nn.Module):\n",
        "    def __init__(self,n_classes=10,input_feat=768):\n",
        "        super(MLP,self).__init__()\n",
        "        self.features = nn.Sequential(\n",
        "            OrderedDict(\n",
        "                [\n",
        "                    (\"linear0\", nn.Linear(input_feat,n_classes)),\n",
        "                    (\"ELU0\", nn.ELU(inplace=True))\n",
        "                    \n",
        "                ]\n",
        "            )\n",
        "        )\n",
        "    def forward(self,input):\n",
        "        out = self.features(input)\n",
        "        return out\n",
        "class Gated_Network(nn.Module):\n",
        "    def __init__(self,n_classes=10,input_dim=1024):\n",
        "        super(Gated_Network,self).__init__()\n",
        "        self.gamma = nn.Parameter(torch.ones(1))\n",
        "        self.s = nn.Parameter(torch.zeros(3))\n",
        "        self.dense = DenseNet(growth_rate=12,block_config=[6,12],num_classes=n_classes)\n",
        "        self.mlp = MLP(n_classes=n_classes,input_feat=input_dim)\n",
        "        self.all_conv = AllConv(n_classes=n_classes)\n",
        "        self.input_dim=input_dim\n",
        "    def forward(self,input):\n",
        "        mlp=self.mlp(input.view(-1,self.input_dim))\n",
        "        dense = self.dense(input)\n",
        "        all_conv = self.all_conv(input)\n",
        "        weights=F.softmax(self.s, dim=0).repeat(len(input),1,1).view(len(input),-1,1)\n",
        "        stacked = torch.cat([mlp.view(mlp.shape[0],1,mlp.shape[1]), dense.view(dense.shape[0],1,dense.shape[1]),all_conv.view(all_conv.shape[0],1,all_conv.shape[1])], dim=1)\n",
        "        sum=torch.sum(stacked*weights,dim=1)\n",
        "        wighted_sum=self.gamma*sum\n",
        "        return wighted_sum"
      ],
      "metadata": {
        "id": "nmmTFNjIYGXx"
      },
      "execution_count": null,
      "outputs": []
    },
    {
      "cell_type": "code",
      "source": [
        "def train_model_ioc(optimizer,scheduler,trainloader,testloader,criterion,model,epochs,epsilon):\n",
        "    \n",
        "    def train(optimizer,trainloader,criterion):\n",
        "        model.train()\n",
        "        train_loss=0\n",
        "        y_true=[]\n",
        "        y_pred=[]\n",
        "        for images, labels in trainloader:\n",
        "            model.zero_grad() \n",
        "            data = images.to(device)\n",
        "            target = labels.to(device)\n",
        "            output = model(data)\n",
        "            loss = criterion(output,target)\n",
        "            indices=torch.max(output,1)[1] \n",
        "            train_loss+=loss.item()\n",
        "            y_true+=list(target.detach().cpu().numpy())\n",
        "            y_pred+=list(indices.detach().cpu().numpy())\n",
        "            loss.backward()\n",
        "            optimizer.step()\n",
        "            with torch.no_grad():\n",
        "              \n",
        "              for name,params in model.named_parameters():\n",
        "                  if 'conv0.weight' in name or 'linear0.weight' in name or 'conv_1.weight' in name:\n",
        "                    continue\n",
        "                  newparams=params.detach().clone()\n",
        "                  params.copy_(torch.where(newparams < 0, torch.exp(newparams - epsilon), newparams))\n",
        "        \n",
        "        return train_loss/len(trainloader),accuracy_score(y_true,y_pred)\n",
        "    def test(testloader,criterion):\n",
        "        model.eval()\n",
        "        y_true=[]\n",
        "        y_pred=[]        \n",
        "        val_loss = 0\n",
        "        with torch.no_grad():\n",
        "          for images, labels in testloader:\n",
        "              data = images.to(device)\n",
        "              target = labels.to(device)\n",
        "              output = model(data)\n",
        "              indices=torch.max(output,1)[1]\n",
        "              y_true+=list(target.detach().cpu().numpy())\n",
        "              y_pred+=list(indices.detach().cpu().numpy())\n",
        "              val_loss += criterion(output, target).item()\n",
        "        return val_loss/len(testloader),accuracy_score(y_true,y_pred)\n",
        "\n",
        "        \n",
        "    train_loss=[]\n",
        "\n",
        "    test_loss=[]\n",
        "    train_acc=[]\n",
        "\n",
        "    test_acc=[]\n",
        "    for epoch in tqdm(range(1, epochs + 1)):\n",
        "        \n",
        "        tr_loss,tr_acc=train(optimizer=optimizer,trainloader=trainloader,criterion=criterion)\n",
        "        ts_loss,ts_acc=test(testloader,criterion=criterion)\n",
        "        scheduler.step()\n",
        "        train_loss.append(tr_loss)\n",
        "        test_loss.append(ts_loss)\n",
        "        train_acc.append(tr_acc)\n",
        "        test_acc.append(ts_acc)\n",
        "        print(\"\\n\",tr_acc)\n",
        "        print(ts_acc)\n",
        "    return (train_loss,test_loss),(train_acc,test_acc)\n",
        "    \n",
        "def plot(Loss,EPOCH):\n",
        "  x = list(range(1,EPOCH+1))\n",
        "  fig, ax = plt.subplots(figsize=(7,7))\n",
        "  ax.plot(x, Loss[0], '-', label='train', color='green')\n",
        "  ax.plot(x, Loss[1], '-', label='test', color='red')\n",
        "\n",
        "  ax.legend()\n",
        "  plt.show()"
      ],
      "metadata": {
        "id": "-K23gRnk2Lbc"
      },
      "execution_count": null,
      "outputs": []
    },
    {
      "cell_type": "code",
      "source": [
        "gated_network=Gated_Network(n_classes=len(torch.unique(all_train_labels)),input_dim=input_dim)\n",
        "device = torch.device('cuda' if torch.cuda.is_available() else 'cpu')\n",
        "EPOCH=50\n",
        "epsilon=5\n",
        "criterion = nn.CrossEntropyLoss()\n",
        "dense_net = gated_network.to(device)\n",
        "criterion = criterion.to(device)\n",
        "optimizer = optim.Adam(dense_net.parameters(), lr=0.0001)\n",
        "scheduler = optim.lr_scheduler.StepLR(optimizer, step_size=30, gamma=0.1)\n",
        "Loss,accuracy=train_model_ioc(optimizer,scheduler,train_loader,test_loader,criterion,dense_net,EPOCH,epsilon)\n"
      ],
      "metadata": {
        "colab": {
          "base_uri": "https://localhost:8080/"
        },
        "id": "1idtSCXj2paN",
        "outputId": "a5907e58-1561-434b-f2a9-71a888fc6f37"
      },
      "execution_count": null,
      "outputs": [
        {
          "output_type": "stream",
          "name": "stderr",
          "text": [
            "  2%|▏         | 1/50 [00:26<21:59, 26.93s/it]"
          ]
        },
        {
          "output_type": "stream",
          "name": "stdout",
          "text": [
            "\n",
            " 0.2326\n",
            "0.2839\n"
          ]
        },
        {
          "output_type": "stream",
          "name": "stderr",
          "text": [
            "\r  4%|▍         | 2/50 [00:53<21:30, 26.88s/it]"
          ]
        },
        {
          "output_type": "stream",
          "name": "stdout",
          "text": [
            "\n",
            " 0.30404\n",
            "0.3174\n"
          ]
        },
        {
          "output_type": "stream",
          "name": "stderr",
          "text": [
            "\r  6%|▌         | 3/50 [01:20<21:04, 26.90s/it]"
          ]
        },
        {
          "output_type": "stream",
          "name": "stdout",
          "text": [
            "\n",
            " 0.33196\n",
            "0.3246\n"
          ]
        },
        {
          "output_type": "stream",
          "name": "stderr",
          "text": [
            "\r  8%|▊         | 4/50 [01:47<20:31, 26.77s/it]"
          ]
        },
        {
          "output_type": "stream",
          "name": "stdout",
          "text": [
            "\n",
            " 0.35324\n",
            "0.3422\n"
          ]
        },
        {
          "output_type": "stream",
          "name": "stderr",
          "text": [
            "\r 10%|█         | 5/50 [02:13<20:03, 26.73s/it]"
          ]
        },
        {
          "output_type": "stream",
          "name": "stdout",
          "text": [
            "\n",
            " 0.36152\n",
            "0.3681\n"
          ]
        },
        {
          "output_type": "stream",
          "name": "stderr",
          "text": [
            "\r 12%|█▏        | 6/50 [02:40<19:33, 26.67s/it]"
          ]
        },
        {
          "output_type": "stream",
          "name": "stdout",
          "text": [
            "\n",
            " 0.37174\n",
            "0.3522\n"
          ]
        },
        {
          "output_type": "stream",
          "name": "stderr",
          "text": [
            "\r 14%|█▍        | 7/50 [03:07<19:05, 26.63s/it]"
          ]
        },
        {
          "output_type": "stream",
          "name": "stdout",
          "text": [
            "\n",
            " 0.37936\n",
            "0.3815\n"
          ]
        },
        {
          "output_type": "stream",
          "name": "stderr",
          "text": [
            "\r 16%|█▌        | 8/50 [03:33<18:41, 26.70s/it]"
          ]
        },
        {
          "output_type": "stream",
          "name": "stdout",
          "text": [
            "\n",
            " 0.38626\n",
            "0.3812\n"
          ]
        },
        {
          "output_type": "stream",
          "name": "stderr",
          "text": [
            "\r 18%|█▊        | 9/50 [04:00<18:18, 26.78s/it]"
          ]
        },
        {
          "output_type": "stream",
          "name": "stdout",
          "text": [
            "\n",
            " 0.39002\n",
            "0.3753\n"
          ]
        },
        {
          "output_type": "stream",
          "name": "stderr",
          "text": [
            "\r 20%|██        | 10/50 [04:27<17:55, 26.89s/it]"
          ]
        },
        {
          "output_type": "stream",
          "name": "stdout",
          "text": [
            "\n",
            " 0.3933\n",
            "0.3866\n"
          ]
        },
        {
          "output_type": "stream",
          "name": "stderr",
          "text": [
            "\r 22%|██▏       | 11/50 [04:54<17:24, 26.79s/it]"
          ]
        },
        {
          "output_type": "stream",
          "name": "stdout",
          "text": [
            "\n",
            " 0.39868\n",
            "0.3929\n"
          ]
        },
        {
          "output_type": "stream",
          "name": "stderr",
          "text": [
            "\r 24%|██▍       | 12/50 [05:21<16:58, 26.81s/it]"
          ]
        },
        {
          "output_type": "stream",
          "name": "stdout",
          "text": [
            "\n",
            " 0.40454\n",
            "0.3909\n"
          ]
        },
        {
          "output_type": "stream",
          "name": "stderr",
          "text": [
            "\r 26%|██▌       | 13/50 [05:48<16:33, 26.85s/it]"
          ]
        },
        {
          "output_type": "stream",
          "name": "stdout",
          "text": [
            "\n",
            " 0.4059\n",
            "0.406\n"
          ]
        },
        {
          "output_type": "stream",
          "name": "stderr",
          "text": [
            "\r 28%|██▊       | 14/50 [06:15<16:06, 26.85s/it]"
          ]
        },
        {
          "output_type": "stream",
          "name": "stdout",
          "text": [
            "\n",
            " 0.41164\n",
            "0.4103\n"
          ]
        },
        {
          "output_type": "stream",
          "name": "stderr",
          "text": [
            "\r 30%|███       | 15/50 [06:42<15:39, 26.84s/it]"
          ]
        },
        {
          "output_type": "stream",
          "name": "stdout",
          "text": [
            "\n",
            " 0.4165\n",
            "0.409\n"
          ]
        },
        {
          "output_type": "stream",
          "name": "stderr",
          "text": [
            "\r 32%|███▏      | 16/50 [07:08<15:11, 26.80s/it]"
          ]
        },
        {
          "output_type": "stream",
          "name": "stdout",
          "text": [
            "\n",
            " 0.41816\n",
            "0.4171\n"
          ]
        },
        {
          "output_type": "stream",
          "name": "stderr",
          "text": [
            "\r 34%|███▍      | 17/50 [07:35<14:43, 26.76s/it]"
          ]
        },
        {
          "output_type": "stream",
          "name": "stdout",
          "text": [
            "\n",
            " 0.42302\n",
            "0.4198\n"
          ]
        },
        {
          "output_type": "stream",
          "name": "stderr",
          "text": [
            "\r 36%|███▌      | 18/50 [08:02<14:15, 26.72s/it]"
          ]
        },
        {
          "output_type": "stream",
          "name": "stdout",
          "text": [
            "\n",
            " 0.42572\n",
            "0.4214\n"
          ]
        },
        {
          "output_type": "stream",
          "name": "stderr",
          "text": [
            "\r 38%|███▊      | 19/50 [08:29<13:52, 26.84s/it]"
          ]
        },
        {
          "output_type": "stream",
          "name": "stdout",
          "text": [
            "\n",
            " 0.43016\n",
            "0.4199\n"
          ]
        },
        {
          "output_type": "stream",
          "name": "stderr",
          "text": [
            "\r 40%|████      | 20/50 [08:56<13:28, 26.97s/it]"
          ]
        },
        {
          "output_type": "stream",
          "name": "stdout",
          "text": [
            "\n",
            " 0.43176\n",
            "0.4163\n"
          ]
        },
        {
          "output_type": "stream",
          "name": "stderr",
          "text": [
            "\r 42%|████▏     | 21/50 [09:23<13:01, 26.96s/it]"
          ]
        },
        {
          "output_type": "stream",
          "name": "stdout",
          "text": [
            "\n",
            " 0.43606\n",
            "0.4232\n"
          ]
        },
        {
          "output_type": "stream",
          "name": "stderr",
          "text": [
            "\r 44%|████▍     | 22/50 [09:49<12:31, 26.85s/it]"
          ]
        },
        {
          "output_type": "stream",
          "name": "stdout",
          "text": [
            "\n",
            " 0.43984\n",
            "0.4238\n"
          ]
        },
        {
          "output_type": "stream",
          "name": "stderr",
          "text": [
            "\r 46%|████▌     | 23/50 [10:16<12:03, 26.79s/it]"
          ]
        },
        {
          "output_type": "stream",
          "name": "stdout",
          "text": [
            "\n",
            " 0.4435\n",
            "0.4288\n"
          ]
        },
        {
          "output_type": "stream",
          "name": "stderr",
          "text": [
            "\r 48%|████▊     | 24/50 [10:43<11:33, 26.68s/it]"
          ]
        },
        {
          "output_type": "stream",
          "name": "stdout",
          "text": [
            "\n",
            " 0.44624\n",
            "0.4361\n"
          ]
        },
        {
          "output_type": "stream",
          "name": "stderr",
          "text": [
            "\r 50%|█████     | 25/50 [11:09<11:06, 26.66s/it]"
          ]
        },
        {
          "output_type": "stream",
          "name": "stdout",
          "text": [
            "\n",
            " 0.45304\n",
            "0.4364\n"
          ]
        },
        {
          "output_type": "stream",
          "name": "stderr",
          "text": [
            "\r 52%|█████▏    | 26/50 [11:36<10:39, 26.66s/it]"
          ]
        },
        {
          "output_type": "stream",
          "name": "stdout",
          "text": [
            "\n",
            " 0.4542\n",
            "0.4475\n"
          ]
        },
        {
          "output_type": "stream",
          "name": "stderr",
          "text": [
            "\r 54%|█████▍    | 27/50 [12:02<10:13, 26.65s/it]"
          ]
        },
        {
          "output_type": "stream",
          "name": "stdout",
          "text": [
            "\n",
            " 0.45664\n",
            "0.4333\n"
          ]
        },
        {
          "output_type": "stream",
          "name": "stderr",
          "text": [
            "\r 56%|█████▌    | 28/50 [12:29<09:47, 26.72s/it]"
          ]
        },
        {
          "output_type": "stream",
          "name": "stdout",
          "text": [
            "\n",
            " 0.46084\n",
            "0.4339\n"
          ]
        },
        {
          "output_type": "stream",
          "name": "stderr",
          "text": [
            "\r 58%|█████▊    | 29/50 [12:56<09:21, 26.72s/it]"
          ]
        },
        {
          "output_type": "stream",
          "name": "stdout",
          "text": [
            "\n",
            " 0.46404\n",
            "0.4476\n"
          ]
        },
        {
          "output_type": "stream",
          "name": "stderr",
          "text": [
            "\r 60%|██████    | 30/50 [13:23<08:54, 26.70s/it]"
          ]
        },
        {
          "output_type": "stream",
          "name": "stdout",
          "text": [
            "\n",
            " 0.46728\n",
            "0.4409\n"
          ]
        },
        {
          "output_type": "stream",
          "name": "stderr",
          "text": [
            "\r 62%|██████▏   | 31/50 [13:50<08:28, 26.79s/it]"
          ]
        },
        {
          "output_type": "stream",
          "name": "stdout",
          "text": [
            "\n",
            " 0.47524\n",
            "0.4532\n"
          ]
        },
        {
          "output_type": "stream",
          "name": "stderr",
          "text": [
            "\r 64%|██████▍   | 32/50 [14:17<08:05, 26.97s/it]"
          ]
        },
        {
          "output_type": "stream",
          "name": "stdout",
          "text": [
            "\n",
            " 0.47556\n",
            "0.4588\n"
          ]
        },
        {
          "output_type": "stream",
          "name": "stderr",
          "text": [
            "\r 66%|██████▌   | 33/50 [14:44<07:38, 26.94s/it]"
          ]
        },
        {
          "output_type": "stream",
          "name": "stdout",
          "text": [
            "\n",
            " 0.47534\n",
            "0.4545\n"
          ]
        },
        {
          "output_type": "stream",
          "name": "stderr",
          "text": [
            "\r 68%|██████▊   | 34/50 [15:11<07:10, 26.91s/it]"
          ]
        },
        {
          "output_type": "stream",
          "name": "stdout",
          "text": [
            "\n",
            " 0.47664\n",
            "0.4572\n"
          ]
        },
        {
          "output_type": "stream",
          "name": "stderr",
          "text": [
            "\r 70%|███████   | 35/50 [15:38<06:43, 26.88s/it]"
          ]
        },
        {
          "output_type": "stream",
          "name": "stdout",
          "text": [
            "\n",
            " 0.47652\n",
            "0.4572\n"
          ]
        },
        {
          "output_type": "stream",
          "name": "stderr",
          "text": [
            "\r 72%|███████▏  | 36/50 [16:04<06:15, 26.82s/it]"
          ]
        },
        {
          "output_type": "stream",
          "name": "stdout",
          "text": [
            "\n",
            " 0.47788\n",
            "0.4578\n"
          ]
        },
        {
          "output_type": "stream",
          "name": "stderr",
          "text": [
            "\r 74%|███████▍  | 37/50 [16:31<05:48, 26.83s/it]"
          ]
        },
        {
          "output_type": "stream",
          "name": "stdout",
          "text": [
            "\n",
            " 0.47768\n",
            "0.4564\n"
          ]
        },
        {
          "output_type": "stream",
          "name": "stderr",
          "text": [
            "\r 76%|███████▌  | 38/50 [16:58<05:22, 26.85s/it]"
          ]
        },
        {
          "output_type": "stream",
          "name": "stdout",
          "text": [
            "\n",
            " 0.47778\n",
            "0.4591\n"
          ]
        },
        {
          "output_type": "stream",
          "name": "stderr",
          "text": [
            "\r 78%|███████▊  | 39/50 [17:25<04:54, 26.80s/it]"
          ]
        },
        {
          "output_type": "stream",
          "name": "stdout",
          "text": [
            "\n",
            " 0.47888\n",
            "0.4576\n"
          ]
        },
        {
          "output_type": "stream",
          "name": "stderr",
          "text": [
            "\r 80%|████████  | 40/50 [17:52<04:28, 26.84s/it]"
          ]
        },
        {
          "output_type": "stream",
          "name": "stdout",
          "text": [
            "\n",
            " 0.47832\n",
            "0.4586\n"
          ]
        },
        {
          "output_type": "stream",
          "name": "stderr",
          "text": [
            "\r 82%|████████▏ | 41/50 [18:19<04:01, 26.88s/it]"
          ]
        },
        {
          "output_type": "stream",
          "name": "stdout",
          "text": [
            "\n",
            " 0.47762\n",
            "0.4583\n"
          ]
        },
        {
          "output_type": "stream",
          "name": "stderr",
          "text": [
            "\r 84%|████████▍ | 42/50 [18:46<03:36, 27.01s/it]"
          ]
        },
        {
          "output_type": "stream",
          "name": "stdout",
          "text": [
            "\n",
            " 0.47866\n",
            "0.4573\n"
          ]
        },
        {
          "output_type": "stream",
          "name": "stderr",
          "text": [
            "\r 86%|████████▌ | 43/50 [19:13<03:09, 27.02s/it]"
          ]
        },
        {
          "output_type": "stream",
          "name": "stdout",
          "text": [
            "\n",
            " 0.47892\n",
            "0.4572\n"
          ]
        },
        {
          "output_type": "stream",
          "name": "stderr",
          "text": [
            "\r 88%|████████▊ | 44/50 [19:40<02:42, 27.01s/it]"
          ]
        },
        {
          "output_type": "stream",
          "name": "stdout",
          "text": [
            "\n",
            " 0.48052\n",
            "0.4599\n"
          ]
        },
        {
          "output_type": "stream",
          "name": "stderr",
          "text": [
            "\r 90%|█████████ | 45/50 [20:07<02:14, 26.89s/it]"
          ]
        },
        {
          "output_type": "stream",
          "name": "stdout",
          "text": [
            "\n",
            " 0.48034\n",
            "0.4598\n"
          ]
        },
        {
          "output_type": "stream",
          "name": "stderr",
          "text": [
            "\r 92%|█████████▏| 46/50 [20:33<01:47, 26.83s/it]"
          ]
        },
        {
          "output_type": "stream",
          "name": "stdout",
          "text": [
            "\n",
            " 0.48056\n",
            "0.4586\n"
          ]
        },
        {
          "output_type": "stream",
          "name": "stderr",
          "text": [
            "\r 94%|█████████▍| 47/50 [21:00<01:20, 26.76s/it]"
          ]
        },
        {
          "output_type": "stream",
          "name": "stdout",
          "text": [
            "\n",
            " 0.48134\n",
            "0.4584\n"
          ]
        },
        {
          "output_type": "stream",
          "name": "stderr",
          "text": [
            "\r 96%|█████████▌| 48/50 [21:27<00:53, 26.76s/it]"
          ]
        },
        {
          "output_type": "stream",
          "name": "stdout",
          "text": [
            "\n",
            " 0.48076\n",
            "0.4616\n"
          ]
        },
        {
          "output_type": "stream",
          "name": "stderr",
          "text": [
            "\r 98%|█████████▊| 49/50 [21:53<00:26, 26.77s/it]"
          ]
        },
        {
          "output_type": "stream",
          "name": "stdout",
          "text": [
            "\n",
            " 0.48016\n",
            "0.4599\n"
          ]
        },
        {
          "output_type": "stream",
          "name": "stderr",
          "text": [
            "100%|██████████| 50/50 [22:20<00:00, 26.82s/it]"
          ]
        },
        {
          "output_type": "stream",
          "name": "stdout",
          "text": [
            "\n",
            " 0.4815\n",
            "0.4627\n"
          ]
        },
        {
          "output_type": "stream",
          "name": "stderr",
          "text": [
            "\n"
          ]
        }
      ]
    },
    {
      "cell_type": "code",
      "source": [
        "plot(Loss,EPOCH)\n",
        "plot(accuracy,EPOCH)"
      ],
      "metadata": {
        "colab": {
          "base_uri": "https://localhost:8080/",
          "height": 1000
        },
        "id": "HXLaSQpS2q0P",
        "outputId": "0e20faa3-1411-4ebc-96f3-656002f90225"
      },
      "execution_count": null,
      "outputs": [
        {
          "output_type": "display_data",
          "data": {
            "text/plain": [
              "<Figure size 700x700 with 1 Axes>"
            ],
            "image/png": "[encoded data removed]"
          },
          "metadata": {}
        },
        {
          "output_type": "display_data",
          "data": {
            "text/plain": [
              "<Figure size 700x700 with 1 Axes>"
            ],
            "image/png": "[encoded data removed]"
          },
          "metadata": {}
        }
      ]
    },
    {
      "cell_type": "code",
      "source": [
        "torch.save(gated_network.state_dict(),\"ioc_novel_cifar_10.pt\")"
      ],
      "metadata": {
        "id": "3vUgSjMp215e"
      },
      "execution_count": null,
      "outputs": []
    },
    {
      "cell_type": "code",
      "source": [],
      "metadata": {
        "id": "djfY33TAbWkj"
      },
      "execution_count": null,
      "outputs": []
    }
  ]
}