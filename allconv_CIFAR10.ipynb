{
  "nbformat": 4,
  "nbformat_minor": 0,
  "metadata": {
    "colab": {
      "provenance": []
    },
    "kernelspec": {
      "name": "python3",
      "display_name": "Python 3"
    },
    "language_info": {
      "name": "python"
    },
    "accelerator": "GPU",
    "gpuClass": "standard"
  },
  "cells": [
    {
      "cell_type": "code",
      "execution_count": 1,
      "metadata": {
        "id": "cy_v848tiof0"
      },
      "outputs": [],
      "source": [
        "import torch\n",
        "import torch.nn as nn\n",
        "import torch.nn.functional as F\n",
        "import torchvision\n",
        "import torchvision.transforms as transforms\n",
        "import itertools\n",
        "from sklearn.metrics import accuracy_score, classification_report\n",
        "from tqdm import tqdm\n",
        "from torch.utils.data import random_split\n",
        "from torch.optim.lr_scheduler import StepLR\n",
        "import matplotlib.pyplot as plt"
      ]
    },
    {
      "cell_type": "code",
      "source": [
        "torch.manual_seed (0)\n",
        "device = torch.device(\"cuda:0\" if torch.cuda.is_available() else \"cpu\")"
      ],
      "metadata": {
        "id": "J0uzBW6UtqNl"
      },
      "execution_count": 2,
      "outputs": []
    },
    {
      "cell_type": "code",
      "source": [
        "class AllConv (nn.Module):\n",
        "\n",
        "    def __init__(self, n_classes):\n",
        "        super(AllConv, self).__init__()\n",
        "        \n",
        "        self.n_classes = n_classes\n",
        "\n",
        "        self.ipdrop = nn.Dropout (0.2)\n",
        "        self.dropout = nn.Dropout (0.5)\n",
        "        \n",
        "        self.conv_1 = torch.nn.Conv2d(in_channels=3,\n",
        "                                      out_channels=96,\n",
        "                                      kernel_size=(3, 3),\n",
        "                                      stride=(1, 1),\n",
        "                                      padding=1) \n",
        "    \n",
        "        self.conv_2 = torch.nn.Conv2d(in_channels=96,\n",
        "                                      out_channels=96,\n",
        "                                      kernel_size=(3, 3),\n",
        "                                      stride=(1, 1),\n",
        "                                      padding=1)                             \n",
        "        \n",
        "        self.pool_1 = torch.nn.Conv2d(in_channels=96,\n",
        "                                      out_channels=96,\n",
        "                                      kernel_size=(3, 3),\n",
        "                                      stride=(2, 2),\n",
        "                                      padding=1)                  \n",
        "                                    \n",
        "        self.conv_4 = torch.nn.Conv2d(in_channels=96,\n",
        "                                      out_channels=192,\n",
        "                                      kernel_size=(3, 3),\n",
        "                                      stride=(1, 1),\n",
        "                                      padding=1)      \n",
        "        \n",
        "                                    \n",
        "        self.conv_5 = torch.nn.Conv2d(in_channels=192,\n",
        "                                      out_channels=192,\n",
        "                                      kernel_size=(3, 3),\n",
        "                                      stride=(1, 1),\n",
        "                                      padding=1)       \n",
        "                                 \n",
        "        self.pool_2 = torch.nn.Conv2d(in_channels=192,\n",
        "                                      out_channels=192,\n",
        "                                      kernel_size=(3, 3),\n",
        "                                      stride=(2, 2),\n",
        "                                      padding=1)      \n",
        "                                    \n",
        "        self.conv_7 = torch.nn.Conv2d(in_channels=192,\n",
        "                                      out_channels=192,\n",
        "                                      kernel_size=(3, 3),\n",
        "                                      stride=(1, 1),\n",
        "                                      padding=1)\n",
        "\n",
        "        self.conv_8 = torch.nn.Conv2d(in_channels=192,\n",
        "                                      out_channels=192,\n",
        "                                      kernel_size=(1, 1),\n",
        "                                      stride=(1, 1),\n",
        "                                      padding=1)\n",
        "\n",
        "        self.conv_9 = torch.nn.Conv2d(in_channels=192,\n",
        "                                      out_channels=self.n_classes,\n",
        "                                      kernel_size=(1, 1),\n",
        "                                      stride=(1, 1),\n",
        "                                      padding=1)\n",
        "        \n",
        "    def forward(self, x):\n",
        "\n",
        "        out = self.conv_1(x)\n",
        "        out = F.relu(out)\n",
        "\n",
        "        out = self.ipdrop (out)\n",
        "\n",
        "        out = self.conv_2(out)\n",
        "        out = F.relu(out)\n",
        "\n",
        "        out = self.pool_1(out)\n",
        "        out = F.relu(out)\n",
        "\n",
        "        out = self.dropout (out)\n",
        "\n",
        "        out = self.conv_4(out)\n",
        "        out = F.relu(out)\n",
        "        \n",
        "        out = self.conv_5(out)\n",
        "        out = F.relu(out)\n",
        "        \n",
        "        out = self.pool_2(out)\n",
        "        out = F.relu(out)\n",
        "\n",
        "        out = self.dropout (out)\n",
        "        \n",
        "        out = self.conv_7(out)\n",
        "        out = F.relu(out)\n",
        "\n",
        "        out = self.conv_8(out)\n",
        "        out = F.relu(out)\n",
        "\n",
        "        out = self.conv_9(out)\n",
        "        out = F.relu(out)\n",
        "        \n",
        "        logits = F.adaptive_avg_pool2d(out, 1)\n",
        "        # drop width\n",
        "        logits.squeeze_(-1)\n",
        "        # drop height\n",
        "        logits.squeeze_(-1)\n",
        "        preds = torch.softmax(logits, dim=1)\n",
        "        return logits, preds"
      ],
      "metadata": {
        "id": "NknVxV36i8FH"
      },
      "execution_count": 3,
      "outputs": []
    },
    {
      "cell_type": "code",
      "source": [
        "transform = transforms.Compose(\n",
        "    [transforms.ToTensor(),\n",
        "     transforms.Normalize((0.5, 0.5, 0.5), (0.5, 0.5, 0.5))])\n",
        "\n",
        "batch_size = 128\n",
        "\n",
        "trainset = torchvision.datasets.CIFAR10(root='./data', train=True,\n",
        "                                        download=True, transform=transform)\n",
        "trainloader = torch.utils.data.DataLoader(trainset, batch_size=batch_size,\n",
        "                                          shuffle=True, num_workers=2)\n",
        "\n",
        "# train, valid = random_split (trainset, [len (trainset)*0.8, len (trainset)*0.2])\n",
        "\n",
        "testset = torchvision.datasets.CIFAR10(root='./data', train=False,\n",
        "                                       download=True, transform=transform)\n",
        "\n",
        "testloader = torch.utils.data.DataLoader(testset, batch_size=batch_size,\n",
        "                                         shuffle=False, num_workers=2)\n",
        "\n",
        "classes = ('plane', 'car', 'bird', 'cat',\n",
        "           'deer', 'dog', 'frog', 'horse', 'ship', 'truck')"
      ],
      "metadata": {
        "colab": {
          "base_uri": "https://localhost:8080/"
        },
        "id": "G9gUxMqIrxOa",
        "outputId": "8b53a614-9c8d-411d-cd7b-ad93f933d553"
      },
      "execution_count": 4,
      "outputs": [
        {
          "output_type": "stream",
          "name": "stdout",
          "text": [
            "Downloading https://www.cs.toronto.edu/~kriz/cifar-10-python.tar.gz to ./data/cifar-10-python.tar.gz\n"
          ]
        },
        {
          "output_type": "stream",
          "name": "stderr",
          "text": [
            "100%|██████████| 170498071/170498071 [00:13<00:00, 12904015.44it/s]\n"
          ]
        },
        {
          "output_type": "stream",
          "name": "stdout",
          "text": [
            "Extracting ./data/cifar-10-python.tar.gz to ./data\n",
            "Files already downloaded and verified\n"
          ]
        }
      ]
    },
    {
      "cell_type": "code",
      "source": [
        "loss_function = nn.CrossEntropyLoss ()\n",
        "\n",
        "learning_rate = 1e-3\n",
        "\n",
        "model = AllConv(10)\n",
        "\n",
        "model = model.to(device)\n",
        "\n",
        "epochs = 50\n",
        "\n",
        "optimizer = torch.optim.Adam(model.parameters(), lr=learning_rate) \n",
        "scheduler = StepLR (optimizer, step_size=30, gamma=0.1) "
      ],
      "metadata": {
        "id": "i_etaqySshX8"
      },
      "execution_count": 5,
      "outputs": []
    },
    {
      "cell_type": "code",
      "source": [
        "def graph_plot(x, vy, ty, ax, colors=['b']):\n",
        "  ax.plot(x, vy, 'b', label=\"Test\")\n",
        "  ax.plot(x, ty, 'r', label=\"Train\")\n",
        "  plt.legend()\n",
        "  plt.grid()\n",
        "  fig.canvas.draw()"
      ],
      "metadata": {
        "id": "7SEWhVFJI-Kh"
      },
      "execution_count": 6,
      "outputs": []
    },
    {
      "cell_type": "code",
      "source": [
        "def train_one_epoch (model, optimizer, trainloader):\n",
        "  loss = 0\n",
        "  y_hat = []\n",
        "  y_true = []\n",
        "\n",
        "  for features, targets in trainloader:\n",
        "\n",
        "    features = features.to(device)\n",
        "    targets = targets.to(device)\n",
        "\n",
        "    logits, probas = model(features)\n",
        "    cost = F.cross_entropy(logits, targets)\n",
        "\n",
        "    loss += cost.item ()\n",
        "    optimizer.zero_grad()\n",
        "    \n",
        "    _, predicted_labels = torch.max(probas, 1)\n",
        "    \n",
        "    y_hat.append (predicted_labels.tolist ())\n",
        "    y_true.append (targets.tolist ())\n",
        "    cost.backward()\n",
        "    \n",
        "    ### UPDATE MODEL PARAMETERS\n",
        "    optimizer.step()\n",
        "\n",
        "  y_hat = list (itertools.chain (*y_hat))\n",
        "  y_true = list (itertools.chain (*y_true))\n",
        "  accuracy = accuracy_score (y_hat, y_true)\n",
        "\n",
        "  loss = loss/len (trainloader)\n",
        "\n",
        "  return loss, accuracy"
      ],
      "metadata": {
        "id": "MMGTuZIWF3ir"
      },
      "execution_count": 7,
      "outputs": []
    },
    {
      "cell_type": "code",
      "source": [
        "def test_one_epoch (model, testloader):\n",
        "  y_hat = []\n",
        "  y_true = []\n",
        "\n",
        "  loss = 0\n",
        "\n",
        "  for features, targets in testloader:\n",
        "\n",
        "    features = features.to(device)\n",
        "    targets = targets.to(device)\n",
        "\n",
        "    logits, probas = model(features)\n",
        "    \n",
        "    _, predicted_labels = torch.max(probas, 1)\n",
        "    \n",
        "    cost = F.cross_entropy(logits, targets)\n",
        "    loss += cost.item ()\n",
        "\n",
        "    y_hat.append (predicted_labels.tolist ())\n",
        "    y_true.append (targets.tolist ())\n",
        "  \n",
        "  y_hat = list (itertools.chain (*y_hat))\n",
        "  y_true = list (itertools.chain (*y_true))\n",
        "  accuracy = accuracy_score (y_hat, y_true)\n",
        "  \n",
        "  loss = loss/len (testloader)\n",
        "\n",
        "  return loss, accuracy"
      ],
      "metadata": {
        "id": "go3Au4nDG_cx"
      },
      "execution_count": 8,
      "outputs": []
    },
    {
      "cell_type": "code",
      "source": [
        "train_losses = []\n",
        "train_accuracies = []\n",
        "\n",
        "test_losses = []\n",
        "test_accuracies = []\n",
        "\n",
        "for epoch in tqdm (range (epochs)):\n",
        "  model = model.train()\n",
        "  loss, accuracy = train_one_epoch (model, optimizer, trainloader)\n",
        "  train_losses.append (loss)\n",
        "  train_accuracies.append (accuracy)\n",
        "  scheduler.step ()\n",
        "\n",
        "  with torch.no_grad ():\n",
        "    model = model.eval ()\n",
        "    loss, accuracy = test_one_epoch (model, testloader)\n",
        "    test_losses.append (loss)\n",
        "    test_accuracies.append (accuracy)"
      ],
      "metadata": {
        "colab": {
          "base_uri": "https://localhost:8080/"
        },
        "id": "2SSaDc7nuCPI",
        "outputId": "6797641a-4080-4dcb-fd0c-12a88f079c8c"
      },
      "execution_count": 9,
      "outputs": [
        {
          "output_type": "stream",
          "name": "stderr",
          "text": [
            "100%|██████████| 50/50 [19:32<00:00, 23.45s/it]\n"
          ]
        }
      ]
    },
    {
      "cell_type": "code",
      "source": [
        "fig, ax = plt.subplots(1,1)\n",
        "ax.set_xlabel('Epochs->')  \n",
        "ax.set_ylabel('Accuracy->')\n",
        "ax.set_title('Accuracy on CIFAR10 Dataset', fontweight=\"bold\")\n",
        "\n",
        "x = list(range(1, epochs+1))\n",
        "\n",
        "vy = test_accuracies\n",
        "ty = train_accuracies\n",
        "\n",
        "graph_plot(x, vy, ty, ax)"
      ],
      "metadata": {
        "colab": {
          "base_uri": "https://localhost:8080/",
          "height": 472
        },
        "id": "u9eHUoqLJtDO",
        "outputId": "8c4e325e-c8ea-4295-dbe1-cfde272c339b"
      },
      "execution_count": 10,
      "outputs": [
        {
          "output_type": "display_data",
          "data": {
            "text/plain": [
              "<Figure size 640x480 with 1 Axes>"
            ],
            "image/png": "[encoded data removed]"
          },
          "metadata": {}
        }
      ]
    },
    {
      "cell_type": "code",
      "source": [
        "fig,ax = plt.subplots(1,1)\n",
        "ax.set_xlabel('Epochs->')  \n",
        "ax.set_ylabel('Crossentropy Loss->')\n",
        "ax.set_title('Crossentropy Loss on CIFAR10 Dataset', fontweight=\"bold\")\n",
        "\n",
        "x = list(range(1, epochs+1))\n",
        "\n",
        "vy = test_losses\n",
        "ty = train_losses\n",
        "\n",
        "graph_plot(x, vy, ty, ax)"
      ],
      "metadata": {
        "colab": {
          "base_uri": "https://localhost:8080/",
          "height": 472
        },
        "id": "FoMyq9NjJ5xO",
        "outputId": "0bdbf0eb-edd4-4c26-d1a8-df33bfb4a728"
      },
      "execution_count": 11,
      "outputs": [
        {
          "output_type": "display_data",
          "data": {
            "text/plain": [
              "<Figure size 640x480 with 1 Axes>"
            ],
            "image/png": "[encoded data removed]"
          },
          "metadata": {}
        }
      ]
    },
    {
      "cell_type": "code",
      "source": [
        "print (train_accuracies [-1], test_accuracies [-1])"
      ],
      "metadata": {
        "colab": {
          "base_uri": "https://localhost:8080/"
        },
        "id": "_6tlIpiM8fyw",
        "outputId": "2f803120-5008-4b31-86c6-5277b51eb1ad"
      },
      "execution_count": 13,
      "outputs": [
        {
          "output_type": "stream",
          "name": "stdout",
          "text": [
            "0.94742 0.8571\n"
          ]
        }
      ]
    },
    {
      "cell_type": "code",
      "source": [
        "print (\"generalization gap: \", train_accuracies [-1] - test_accuracies [-1])"
      ],
      "metadata": {
        "colab": {
          "base_uri": "https://localhost:8080/"
        },
        "id": "biwVx0i98O97",
        "outputId": "633d3cbd-7e87-4092-84e0-63e9cf6b8e7d"
      },
      "execution_count": 12,
      "outputs": [
        {
          "output_type": "stream",
          "name": "stdout",
          "text": [
            "generalization gap:  0.09032000000000007\n"
          ]
        }
      ]
    }
  ]
}