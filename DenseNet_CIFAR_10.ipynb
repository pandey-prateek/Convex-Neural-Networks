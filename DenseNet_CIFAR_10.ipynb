{
  "nbformat": 4,
  "nbformat_minor": 0,
  "metadata": {
    "colab": {
      "provenance": [],
      "gpuType": "T4"
    },
    "kernelspec": {
      "name": "python3",
      "display_name": "Python 3"
    },
    "language_info": {
      "name": "python"
    },
    "accelerator": "GPU",
    "gpuClass": "standard"
  },
  "cells": [
    {
      "cell_type": "code",
      "execution_count": 1,
      "metadata": {
        "id": "EUBaneE4I04E"
      },
      "outputs": [],
      "source": [
        "import os\n",
        "import time\n",
        "\n",
        "import numpy as np\n",
        "import pandas as pd\n",
        "import sklearn\n",
        "import torch\n",
        "import torch.nn as nn\n",
        "import torch.nn.functional as F\n",
        "from torch.utils.data import DataLoader\n",
        "import torch.optim as optim\n",
        "from torchvision import datasets\n",
        "from torchvision import transforms\n",
        "from sklearn.metrics import accuracy_score\n",
        "import matplotlib.pyplot as plt\n",
        "\n",
        "from tqdm import tqdm\n",
        "import warnings\n",
        "import matplotlib.pyplot as plt\n",
        "%matplotlib inline\n",
        "warnings.filterwarnings(\"ignore\")\n",
        "device = torch.device('cuda' if torch.cuda.is_available() else 'cpu')\n"
      ]
    },
    {
      "cell_type": "code",
      "source": [
        "transform = transforms.Compose([\n",
        "                    transforms.ToTensor(), \n",
        "            ])\n",
        "\n",
        "testset = datasets.CIFAR10(root='./data', train=False, download=True, transform=transform)\n",
        "trainset = datasets.CIFAR10(root='./data', train=True, download=True, transform=transform)\n",
        "train_loader = torch.utils.data.DataLoader(trainset, batch_size=128\n",
        "                                                    , shuffle=True, num_workers=8)\n",
        "\n",
        "test_loader = torch.utils.data.DataLoader(testset,batch_size=128\n",
        "                                                     , shuffle=True, num_workers=8)\n"
      ],
      "metadata": {
        "id": "LmTDSHlXJJZR",
        "colab": {
          "base_uri": "https://localhost:8080/"
        },
        "outputId": "878855fd-2fdd-4503-a833-d0722181932c"
      },
      "execution_count": 2,
      "outputs": [
        {
          "output_type": "stream",
          "name": "stdout",
          "text": [
            "Downloading https://www.cs.toronto.edu/~kriz/cifar-10-python.tar.gz to ./data/cifar-10-python.tar.gz\n"
          ]
        },
        {
          "output_type": "stream",
          "name": "stderr",
          "text": [
            "100%|██████████| 170498071/170498071 [00:03<00:00, 55370345.03it/s]\n"
          ]
        },
        {
          "output_type": "stream",
          "name": "stdout",
          "text": [
            "Extracting ./data/cifar-10-python.tar.gz to ./data\n",
            "Files already downloaded and verified\n"
          ]
        }
      ]
    },
    {
      "cell_type": "code",
      "source": [
        "all_train_labels = []\n",
        "all_test_labels = []\n",
        "all_val_labels = []\n",
        "\n",
        "for images, labels in train_loader:  \n",
        "    all_train_labels.append(labels)\n",
        "all_train_labels = torch.cat(all_train_labels)\n",
        "    \n",
        "for images, labels in test_loader:  \n",
        "    all_test_labels.append(labels)\n",
        "all_test_labels = torch.cat(all_test_labels)\n",
        "\n",
        "\n",
        "\n",
        "print('Training labels:', torch.unique(all_train_labels))\n",
        "print('Training label distribution:', torch.bincount(all_train_labels))\n",
        "\n",
        "print('\\nTest labels:', torch.unique(all_test_labels))\n",
        "print('Test label distribution:', torch.bincount(all_test_labels))\n",
        "\n",
        "\n"
      ],
      "metadata": {
        "colab": {
          "base_uri": "https://localhost:8080/"
        },
        "id": "NbfuSpN31bJw",
        "outputId": "2faa3e1e-f1da-4483-972d-76b0a090cfe7"
      },
      "execution_count": 3,
      "outputs": [
        {
          "output_type": "stream",
          "name": "stdout",
          "text": [
            "Training labels: tensor([0, 1, 2, 3, 4, 5, 6, 7, 8, 9])\n",
            "Training label distribution: tensor([5000, 5000, 5000, 5000, 5000, 5000, 5000, 5000, 5000, 5000])\n",
            "\n",
            "Test labels: tensor([0, 1, 2, 3, 4, 5, 6, 7, 8, 9])\n",
            "Test label distribution: tensor([1000, 1000, 1000, 1000, 1000, 1000, 1000, 1000, 1000, 1000])\n"
          ]
        }
      ]
    },
    {
      "cell_type": "markdown",
      "source": [
        "  Densenet-BC model class, based on\n",
        "  Densely Connected Convolutional Networks <https://arxiv.org/pdf/1608.06993.pdf>\n"
      ],
      "metadata": {
        "id": "ZncItDcL-lRh"
      }
    },
    {
      "cell_type": "code",
      "source": [
        "import re\n",
        "from collections import OrderedDict\n",
        "from functools import partial\n",
        "from typing import Any, List, Optional, Tuple\n",
        "\n",
        "import torch\n",
        "import torch.nn as nn\n",
        "import torch.nn.functional as F\n",
        "import torch.utils.checkpoint as cp\n",
        "from torch import Tensor\n",
        "\n",
        "\n",
        "class _DenseLayer(nn.Module):\n",
        "    def __init__(self, num_input_features, growth_rate, bn_size, drop_rate) :\n",
        "        super(_DenseLayer,self).__init__()\n",
        "        self.denselayers = nn.Sequential(\n",
        "            OrderedDict(\n",
        "                [   (\"norm1\", nn.BatchNorm2d(num_input_features)),\n",
        "                    (\"relu1\", nn.ReLU(inplace=True)),\n",
        "                    (\"conv1\", nn.Conv2d(num_input_features, bn_size * growth_rate, kernel_size=1, stride=1, bias=False)),\n",
        "                    (\"norm2\", nn.BatchNorm2d(bn_size * growth_rate)),\n",
        "                    (\"relu2\", nn.ReLU(inplace=True)),\n",
        "                    (\"conv2\", nn.Conv2d(bn_size * growth_rate, growth_rate, kernel_size=3, stride=1, padding=1, bias=False)),\n",
        "                ]\n",
        "            )\n",
        "        )\n",
        "        self.drop_rate=drop_rate\n",
        "\n",
        "\n",
        "    def forward(self, input):\n",
        "        concated_features = torch.cat(input, 1)\n",
        "        new_features = self.denselayers(concated_features)\n",
        "        new_features = F.dropout(new_features, p=self.drop_rate, training=self.training)\n",
        "        return new_features\n",
        "\n",
        "\n",
        "class _DenseBlock(nn.ModuleDict):\n",
        "\n",
        "    def __init__(self,num_layers,num_input_features,bn_size,growth_rate,drop_rate):\n",
        "        super(_DenseBlock,self).__init__()\n",
        "        for i in range(num_layers):\n",
        "            layer = _DenseLayer(num_input_features + i * growth_rate,\n",
        "                growth_rate=growth_rate,\n",
        "                bn_size=bn_size,\n",
        "                drop_rate=drop_rate\n",
        "            )\n",
        "            self.add_module(\"dl%d\" % (i + 1), layer)\n",
        "\n",
        "    def forward(self, init_features):\n",
        "        features = [init_features]\n",
        "        for name, layer in self.items():\n",
        "            new_features = layer(features)\n",
        "            features.append(new_features)\n",
        "        return torch.cat(features, 1)\n",
        "\n",
        "\n",
        "class _Transition(nn.Sequential):\n",
        "    def __init__(self, num_input_features, num_output_features):\n",
        "        super(_Transition,self).__init__()\n",
        "        self.norm = nn.BatchNorm2d(num_input_features)\n",
        "        self.relu = nn.ReLU(inplace=True)\n",
        "        self.conv = nn.Conv2d(num_input_features, num_output_features, kernel_size=1, stride=1, bias=False)\n",
        "        self.pool = nn.AvgPool2d(kernel_size=2, stride=2)\n",
        "\n",
        "\n",
        "class DenseNet(nn.Module):\n",
        "\n",
        "    def __init__(self,growth_rate= 32,block_config=[6, 12, 24, 16],num_init_features= 64,bn_size= 4,drop_rate = 0,num_classes = 1000):\n",
        "\n",
        "        super(DenseNet,self).__init__()\n",
        "\n",
        "        self.features = nn.Sequential(\n",
        "            OrderedDict(\n",
        "                [\n",
        "                    (\"conv0\", nn.Conv2d(3, num_init_features, kernel_size=7, stride=2, padding=3, bias=False)),\n",
        "                    (\"norm0\", nn.BatchNorm2d(num_init_features)),\n",
        "                    (\"relu0\", nn.ReLU(inplace=True)),\n",
        "                    (\"pool0\", nn.MaxPool2d(kernel_size=3, stride=2, padding=1)),\n",
        "                ]\n",
        "            )\n",
        "        )\n",
        "\n",
        "        num_features = num_init_features\n",
        "        for i, num_layers in enumerate(block_config):\n",
        "            block = _DenseBlock(\n",
        "                num_layers=num_layers,\n",
        "                num_input_features=num_features,\n",
        "                bn_size=bn_size,\n",
        "                growth_rate=growth_rate,\n",
        "                drop_rate=drop_rate\n",
        "            )\n",
        "            self.features.add_module(\"db%d\" % (i + 1), block)\n",
        "            num_features = num_features + num_layers * growth_rate\n",
        "            if i != len(block_config) - 1:\n",
        "                trans = _Transition(num_input_features=num_features, num_output_features=num_features // 2)\n",
        "                self.features.add_module(\"transition%d\" % (i + 1), trans)\n",
        "                num_features = num_features // 2\n",
        "\n",
        "        self.features.add_module(\"norm5\", nn.BatchNorm2d(num_features))\n",
        "        self.classifier = nn.Linear(num_features, num_classes)\n",
        "\n",
        "    def forward(self, x):\n",
        "        \n",
        "        features = self.features(x)\n",
        "        out = F.relu(features, inplace=True)\n",
        "        \n",
        "        out = F.adaptive_avg_pool2d(out, (1, 1))\n",
        "        out = torch.flatten(out, 1)\n",
        "        out = self.classifier(out)\n",
        "        out = F.softmax(out,dim=1)\n",
        "        return out\n",
        "\n",
        "\n"
      ],
      "metadata": {
        "id": "vIDbANCxKb5A"
      },
      "execution_count": 4,
      "outputs": []
    },
    {
      "cell_type": "code",
      "source": [
        "def train_model(optimizer,trainloader,testloader,criterion,model,epochs):\n",
        "    \n",
        "    def train(optimizer,trainloader,criterion):\n",
        "        model.train()\n",
        "        train_loss=0\n",
        "        y_true=[]\n",
        "        y_pred=[]\n",
        "        for images, labels in trainloader:\n",
        "            model.zero_grad() \n",
        "            data = images.to(device)\n",
        "            target = labels.to(device)\n",
        "            output = model(data)\n",
        "            loss = criterion(output,target)\n",
        "            indices=torch.max(torch.exp(output),1)[1]\n",
        "            train_loss+=loss.item()\n",
        "            y_true+=list(target.detach().cpu().numpy())\n",
        "            y_pred+=list(indices.detach().cpu().numpy())\n",
        "            loss.backward()\n",
        "            optimizer.step()\n",
        "        return train_loss/len(trainloader),accuracy_score(y_true,y_pred)\n",
        "    def test(testloader,criterion):\n",
        "        model.eval()\n",
        "        y_true=[]\n",
        "        y_pred=[]        \n",
        "        val_loss = 0\n",
        "        with torch.no_grad():\n",
        "          for images, labels in testloader:\n",
        "              data = images.to(device)\n",
        "              target = labels.to(device)\n",
        "              output = model(data)\n",
        "              indices=torch.max(output,1)[1]\n",
        "              y_true+=list(target.detach().cpu().numpy())\n",
        "              y_pred+=list(indices.detach().cpu().numpy())\n",
        "              val_loss += criterion(output, target).item()\n",
        "        return val_loss/len(testloader),accuracy_score(y_true,y_pred)\n",
        "\n",
        "        \n",
        "    train_loss=[]\n",
        "    test_loss=[]\n",
        "    train_acc=[]\n",
        "    test_acc=[]\n",
        "    for epoch in tqdm(range(1, epochs + 1)):\n",
        "        \n",
        "        tr_loss,tr_acc=train(optimizer=optimizer,trainloader=trainloader,criterion=criterion)\n",
        "        ts_loss,ts_acc=test(testloader,criterion=criterion)\n",
        "        train_loss.append(tr_loss)\n",
        "        test_loss.append(ts_loss)\n",
        "        train_acc.append(tr_acc)\n",
        "        test_acc.append(ts_acc)\n",
        "        print(\"train_acc\",tr_acc)\n",
        "        print(\"test_acc\",ts_acc)\n",
        "    return (train_loss,test_loss),(train_acc,test_acc)\n",
        "    \n",
        "def plot(Loss,EPOCH):\n",
        "  x = list(range(1,EPOCH+1))\n",
        "  fig, ax = plt.subplots(figsize=(7,7))\n",
        "  ax.plot(x, Loss[0], '-', label='train', color='green')\n",
        "  ax.plot(x, Loss[1], '-', label='test', color='red')\n",
        "  ax.legend()\n",
        "  plt.show()"
      ],
      "metadata": {
        "id": "xnzAequjxj6w"
      },
      "execution_count": 5,
      "outputs": []
    },
    {
      "cell_type": "code",
      "source": [
        "dense_net=DenseNet(block_config=[6,12,24,16],growth_rate=12,num_classes=len(torch.unique(all_train_labels)))\n",
        "device = torch.device('cuda' if torch.cuda.is_available() else 'cpu')\n",
        "EPOCH=50\n",
        "criterion = nn.CrossEntropyLoss()\n",
        "dense_net = dense_net.to(device)\n",
        "criterion = criterion.to(device)\n",
        "optimizer = optim.Adam(dense_net.parameters(), lr=0.0001)\n",
        "Loss,accuracy=train_model(optimizer,train_loader,test_loader,criterion,dense_net,EPOCH)\n"
      ],
      "metadata": {
        "colab": {
          "base_uri": "https://localhost:8080/"
        },
        "id": "Med2g2bq12wZ",
        "outputId": "50e69f1d-e456-4998-8941-fcf8db314665"
      },
      "execution_count": 6,
      "outputs": [
        {
          "output_type": "stream",
          "name": "stderr",
          "text": [
            "  2%|▏         | 1/50 [00:43<35:11, 43.09s/it]"
          ]
        },
        {
          "output_type": "stream",
          "name": "stdout",
          "text": [
            "train_acc 0.38254\n",
            "test_acc 0.4714\n"
          ]
        },
        {
          "output_type": "stream",
          "name": "stderr",
          "text": [
            "\r  4%|▍         | 2/50 [01:19<31:16, 39.09s/it]"
          ]
        },
        {
          "output_type": "stream",
          "name": "stdout",
          "text": [
            "train_acc 0.51492\n",
            "test_acc 0.5243\n"
          ]
        },
        {
          "output_type": "stream",
          "name": "stderr",
          "text": [
            "\r  6%|▌         | 3/50 [01:57<30:09, 38.51s/it]"
          ]
        },
        {
          "output_type": "stream",
          "name": "stdout",
          "text": [
            "train_acc 0.56262\n",
            "test_acc 0.5515\n"
          ]
        },
        {
          "output_type": "stream",
          "name": "stderr",
          "text": [
            "\r  8%|▊         | 4/50 [02:34<29:06, 37.97s/it]"
          ]
        },
        {
          "output_type": "stream",
          "name": "stdout",
          "text": [
            "train_acc 0.59312\n",
            "test_acc 0.5661\n"
          ]
        },
        {
          "output_type": "stream",
          "name": "stderr",
          "text": [
            "\r 10%|█         | 5/50 [03:11<28:14, 37.66s/it]"
          ]
        },
        {
          "output_type": "stream",
          "name": "stdout",
          "text": [
            "train_acc 0.6144\n",
            "test_acc 0.5731\n"
          ]
        },
        {
          "output_type": "stream",
          "name": "stderr",
          "text": [
            "\r 12%|█▏        | 6/50 [03:48<27:28, 37.46s/it]"
          ]
        },
        {
          "output_type": "stream",
          "name": "stdout",
          "text": [
            "train_acc 0.63468\n",
            "test_acc 0.5878\n"
          ]
        },
        {
          "output_type": "stream",
          "name": "stderr",
          "text": [
            "\r 14%|█▍        | 7/50 [04:25<26:41, 37.24s/it]"
          ]
        },
        {
          "output_type": "stream",
          "name": "stdout",
          "text": [
            "train_acc 0.65084\n",
            "test_acc 0.5851\n"
          ]
        },
        {
          "output_type": "stream",
          "name": "stderr",
          "text": [
            "\r 16%|█▌        | 8/50 [05:01<25:54, 37.02s/it]"
          ]
        },
        {
          "output_type": "stream",
          "name": "stdout",
          "text": [
            "train_acc 0.6656\n",
            "test_acc 0.5953\n"
          ]
        },
        {
          "output_type": "stream",
          "name": "stderr",
          "text": [
            "\r 18%|█▊        | 9/50 [05:39<25:22, 37.14s/it]"
          ]
        },
        {
          "output_type": "stream",
          "name": "stdout",
          "text": [
            "train_acc 0.6773\n",
            "test_acc 0.6098\n"
          ]
        },
        {
          "output_type": "stream",
          "name": "stderr",
          "text": [
            "\r 20%|██        | 10/50 [06:16<24:42, 37.07s/it]"
          ]
        },
        {
          "output_type": "stream",
          "name": "stdout",
          "text": [
            "train_acc 0.6871\n",
            "test_acc 0.6037\n"
          ]
        },
        {
          "output_type": "stream",
          "name": "stderr",
          "text": [
            "\r 22%|██▏       | 11/50 [06:53<24:07, 37.12s/it]"
          ]
        },
        {
          "output_type": "stream",
          "name": "stdout",
          "text": [
            "train_acc 0.6992\n",
            "test_acc 0.6113\n"
          ]
        },
        {
          "output_type": "stream",
          "name": "stderr",
          "text": [
            "\r 24%|██▍       | 12/50 [07:30<23:25, 36.99s/it]"
          ]
        },
        {
          "output_type": "stream",
          "name": "stdout",
          "text": [
            "train_acc 0.70832\n",
            "test_acc 0.6192\n"
          ]
        },
        {
          "output_type": "stream",
          "name": "stderr",
          "text": [
            "\r 26%|██▌       | 13/50 [08:07<22:50, 37.05s/it]"
          ]
        },
        {
          "output_type": "stream",
          "name": "stdout",
          "text": [
            "train_acc 0.72072\n",
            "test_acc 0.6198\n"
          ]
        },
        {
          "output_type": "stream",
          "name": "stderr",
          "text": [
            "\r 28%|██▊       | 14/50 [08:43<22:09, 36.94s/it]"
          ]
        },
        {
          "output_type": "stream",
          "name": "stdout",
          "text": [
            "train_acc 0.72512\n",
            "test_acc 0.6245\n"
          ]
        },
        {
          "output_type": "stream",
          "name": "stderr",
          "text": [
            "\r 30%|███       | 15/50 [09:20<21:30, 36.88s/it]"
          ]
        },
        {
          "output_type": "stream",
          "name": "stdout",
          "text": [
            "train_acc 0.73432\n",
            "test_acc 0.6172\n"
          ]
        },
        {
          "output_type": "stream",
          "name": "stderr",
          "text": [
            "\r 32%|███▏      | 16/50 [09:57<20:57, 36.97s/it]"
          ]
        },
        {
          "output_type": "stream",
          "name": "stdout",
          "text": [
            "train_acc 0.74148\n",
            "test_acc 0.626\n"
          ]
        },
        {
          "output_type": "stream",
          "name": "stderr",
          "text": [
            "\r 34%|███▍      | 17/50 [10:34<20:20, 36.98s/it]"
          ]
        },
        {
          "output_type": "stream",
          "name": "stdout",
          "text": [
            "train_acc 0.74834\n",
            "test_acc 0.6373\n"
          ]
        },
        {
          "output_type": "stream",
          "name": "stderr",
          "text": [
            "\r 36%|███▌      | 18/50 [11:12<19:44, 37.03s/it]"
          ]
        },
        {
          "output_type": "stream",
          "name": "stdout",
          "text": [
            "train_acc 0.75678\n",
            "test_acc 0.6347\n"
          ]
        },
        {
          "output_type": "stream",
          "name": "stderr",
          "text": [
            "\r 38%|███▊      | 19/50 [11:49<19:08, 37.05s/it]"
          ]
        },
        {
          "output_type": "stream",
          "name": "stdout",
          "text": [
            "train_acc 0.76108\n",
            "test_acc 0.6363\n"
          ]
        },
        {
          "output_type": "stream",
          "name": "stderr",
          "text": [
            "\r 40%|████      | 20/50 [12:26<18:29, 37.00s/it]"
          ]
        },
        {
          "output_type": "stream",
          "name": "stdout",
          "text": [
            "train_acc 0.76694\n",
            "test_acc 0.6408\n"
          ]
        },
        {
          "output_type": "stream",
          "name": "stderr",
          "text": [
            "\r 42%|████▏     | 21/50 [13:01<17:41, 36.59s/it]"
          ]
        },
        {
          "output_type": "stream",
          "name": "stdout",
          "text": [
            "train_acc 0.77236\n",
            "test_acc 0.6169\n"
          ]
        },
        {
          "output_type": "stream",
          "name": "stderr",
          "text": [
            "\r 44%|████▍     | 22/50 [13:38<17:07, 36.71s/it]"
          ]
        },
        {
          "output_type": "stream",
          "name": "stdout",
          "text": [
            "train_acc 0.77856\n",
            "test_acc 0.6476\n"
          ]
        },
        {
          "output_type": "stream",
          "name": "stderr",
          "text": [
            "\r 46%|████▌     | 23/50 [14:15<16:32, 36.75s/it]"
          ]
        },
        {
          "output_type": "stream",
          "name": "stdout",
          "text": [
            "train_acc 0.78238\n",
            "test_acc 0.6437\n"
          ]
        },
        {
          "output_type": "stream",
          "name": "stderr",
          "text": [
            "\r 48%|████▊     | 24/50 [14:52<15:58, 36.87s/it]"
          ]
        },
        {
          "output_type": "stream",
          "name": "stdout",
          "text": [
            "train_acc 0.78938\n",
            "test_acc 0.6467\n"
          ]
        },
        {
          "output_type": "stream",
          "name": "stderr",
          "text": [
            "\r 50%|█████     | 25/50 [15:29<15:22, 36.89s/it]"
          ]
        },
        {
          "output_type": "stream",
          "name": "stdout",
          "text": [
            "train_acc 0.79246\n",
            "test_acc 0.6435\n"
          ]
        },
        {
          "output_type": "stream",
          "name": "stderr",
          "text": [
            "\r 52%|█████▏    | 26/50 [16:06<14:46, 36.94s/it]"
          ]
        },
        {
          "output_type": "stream",
          "name": "stdout",
          "text": [
            "train_acc 0.79366\n",
            "test_acc 0.6424\n"
          ]
        },
        {
          "output_type": "stream",
          "name": "stderr",
          "text": [
            "\r 54%|█████▍    | 27/50 [16:44<14:15, 37.19s/it]"
          ]
        },
        {
          "output_type": "stream",
          "name": "stdout",
          "text": [
            "train_acc 0.80066\n",
            "test_acc 0.6404\n"
          ]
        },
        {
          "output_type": "stream",
          "name": "stderr",
          "text": [
            "\r 56%|█████▌    | 28/50 [17:21<13:38, 37.22s/it]"
          ]
        },
        {
          "output_type": "stream",
          "name": "stdout",
          "text": [
            "train_acc 0.80314\n",
            "test_acc 0.6498\n"
          ]
        },
        {
          "output_type": "stream",
          "name": "stderr",
          "text": [
            "\r 58%|█████▊    | 29/50 [17:58<12:57, 37.03s/it]"
          ]
        },
        {
          "output_type": "stream",
          "name": "stdout",
          "text": [
            "train_acc 0.8029\n",
            "test_acc 0.6454\n"
          ]
        },
        {
          "output_type": "stream",
          "name": "stderr",
          "text": [
            "\r 60%|██████    | 30/50 [18:35<12:21, 37.08s/it]"
          ]
        },
        {
          "output_type": "stream",
          "name": "stdout",
          "text": [
            "train_acc 0.80936\n",
            "test_acc 0.651\n"
          ]
        },
        {
          "output_type": "stream",
          "name": "stderr",
          "text": [
            "\r 62%|██████▏   | 31/50 [19:12<11:43, 37.03s/it]"
          ]
        },
        {
          "output_type": "stream",
          "name": "stdout",
          "text": [
            "train_acc 0.81366\n",
            "test_acc 0.6531\n"
          ]
        },
        {
          "output_type": "stream",
          "name": "stderr",
          "text": [
            "\r 64%|██████▍   | 32/50 [19:49<11:06, 37.04s/it]"
          ]
        },
        {
          "output_type": "stream",
          "name": "stdout",
          "text": [
            "train_acc 0.81832\n",
            "test_acc 0.653\n"
          ]
        },
        {
          "output_type": "stream",
          "name": "stderr",
          "text": [
            "\r 66%|██████▌   | 33/50 [20:26<10:30, 37.09s/it]"
          ]
        },
        {
          "output_type": "stream",
          "name": "stdout",
          "text": [
            "train_acc 0.82322\n",
            "test_acc 0.6656\n"
          ]
        },
        {
          "output_type": "stream",
          "name": "stderr",
          "text": [
            "\r 68%|██████▊   | 34/50 [21:03<09:52, 37.04s/it]"
          ]
        },
        {
          "output_type": "stream",
          "name": "stdout",
          "text": [
            "train_acc 0.8293\n",
            "test_acc 0.6448\n"
          ]
        },
        {
          "output_type": "stream",
          "name": "stderr",
          "text": [
            "\r 70%|███████   | 35/50 [21:40<09:12, 36.86s/it]"
          ]
        },
        {
          "output_type": "stream",
          "name": "stdout",
          "text": [
            "train_acc 0.8297\n",
            "test_acc 0.6537\n"
          ]
        },
        {
          "output_type": "stream",
          "name": "stderr",
          "text": [
            "\r 72%|███████▏  | 36/50 [22:17<08:37, 36.93s/it]"
          ]
        },
        {
          "output_type": "stream",
          "name": "stdout",
          "text": [
            "train_acc 0.8334\n",
            "test_acc 0.6568\n"
          ]
        },
        {
          "output_type": "stream",
          "name": "stderr",
          "text": [
            "\r 74%|███████▍  | 37/50 [22:54<08:00, 36.99s/it]"
          ]
        },
        {
          "output_type": "stream",
          "name": "stdout",
          "text": [
            "train_acc 0.83488\n",
            "test_acc 0.6512\n"
          ]
        },
        {
          "output_type": "stream",
          "name": "stderr",
          "text": [
            "\r 76%|███████▌  | 38/50 [23:31<07:24, 37.06s/it]"
          ]
        },
        {
          "output_type": "stream",
          "name": "stdout",
          "text": [
            "train_acc 0.83556\n",
            "test_acc 0.6533\n"
          ]
        },
        {
          "output_type": "stream",
          "name": "stderr",
          "text": [
            "\r 78%|███████▊  | 39/50 [24:08<06:48, 37.14s/it]"
          ]
        },
        {
          "output_type": "stream",
          "name": "stdout",
          "text": [
            "train_acc 0.83888\n",
            "test_acc 0.656\n"
          ]
        },
        {
          "output_type": "stream",
          "name": "stderr",
          "text": [
            "\r 80%|████████  | 40/50 [24:46<06:11, 37.18s/it]"
          ]
        },
        {
          "output_type": "stream",
          "name": "stdout",
          "text": [
            "train_acc 0.84016\n",
            "test_acc 0.6507\n"
          ]
        },
        {
          "output_type": "stream",
          "name": "stderr",
          "text": [
            "\r 82%|████████▏ | 41/50 [25:23<05:35, 37.26s/it]"
          ]
        },
        {
          "output_type": "stream",
          "name": "stdout",
          "text": [
            "train_acc 0.84278\n",
            "test_acc 0.6615\n"
          ]
        },
        {
          "output_type": "stream",
          "name": "stderr",
          "text": [
            "\r 84%|████████▍ | 42/50 [26:00<04:58, 37.31s/it]"
          ]
        },
        {
          "output_type": "stream",
          "name": "stdout",
          "text": [
            "train_acc 0.84506\n",
            "test_acc 0.6579\n"
          ]
        },
        {
          "output_type": "stream",
          "name": "stderr",
          "text": [
            "\r 86%|████████▌ | 43/50 [26:37<04:19, 37.07s/it]"
          ]
        },
        {
          "output_type": "stream",
          "name": "stdout",
          "text": [
            "train_acc 0.8474\n",
            "test_acc 0.6606\n"
          ]
        },
        {
          "output_type": "stream",
          "name": "stderr",
          "text": [
            "\r 88%|████████▊ | 44/50 [27:16<03:45, 37.51s/it]"
          ]
        },
        {
          "output_type": "stream",
          "name": "stdout",
          "text": [
            "train_acc 0.84778\n",
            "test_acc 0.6645\n"
          ]
        },
        {
          "output_type": "stream",
          "name": "stderr",
          "text": [
            "\r 90%|█████████ | 45/50 [27:54<03:08, 37.78s/it]"
          ]
        },
        {
          "output_type": "stream",
          "name": "stdout",
          "text": [
            "train_acc 0.85342\n",
            "test_acc 0.6648\n"
          ]
        },
        {
          "output_type": "stream",
          "name": "stderr",
          "text": [
            "\r 92%|█████████▏| 46/50 [28:31<02:30, 37.64s/it]"
          ]
        },
        {
          "output_type": "stream",
          "name": "stdout",
          "text": [
            "train_acc 0.85568\n",
            "test_acc 0.6579\n"
          ]
        },
        {
          "output_type": "stream",
          "name": "stderr",
          "text": [
            "\r 94%|█████████▍| 47/50 [29:08<01:52, 37.49s/it]"
          ]
        },
        {
          "output_type": "stream",
          "name": "stdout",
          "text": [
            "train_acc 0.85798\n",
            "test_acc 0.6561\n"
          ]
        },
        {
          "output_type": "stream",
          "name": "stderr",
          "text": [
            "\r 96%|█████████▌| 48/50 [29:45<01:14, 37.37s/it]"
          ]
        },
        {
          "output_type": "stream",
          "name": "stdout",
          "text": [
            "train_acc 0.85736\n",
            "test_acc 0.6605\n"
          ]
        },
        {
          "output_type": "stream",
          "name": "stderr",
          "text": [
            "\r 98%|█████████▊| 49/50 [30:23<00:37, 37.32s/it]"
          ]
        },
        {
          "output_type": "stream",
          "name": "stdout",
          "text": [
            "train_acc 0.85872\n",
            "test_acc 0.6625\n"
          ]
        },
        {
          "output_type": "stream",
          "name": "stderr",
          "text": [
            "100%|██████████| 50/50 [31:00<00:00, 37.22s/it]"
          ]
        },
        {
          "output_type": "stream",
          "name": "stdout",
          "text": [
            "train_acc 0.8615\n",
            "test_acc 0.6632\n"
          ]
        },
        {
          "output_type": "stream",
          "name": "stderr",
          "text": [
            "\n"
          ]
        }
      ]
    },
    {
      "cell_type": "code",
      "source": [
        "plot(accuracy,EPOCH)"
      ],
      "metadata": {
        "colab": {
          "base_uri": "https://localhost:8080/",
          "height": 599
        },
        "id": "mF57YTX9o-fa",
        "outputId": "f79b6dd0-bc3e-463f-ede3-90a7d4a2e755"
      },
      "execution_count": 7,
      "outputs": [
        {
          "output_type": "display_data",
          "data": {
            "text/plain": [
              "<Figure size 700x700 with 1 Axes>"
            ],
            "image/png": "[encoded data removed]"
          },
          "metadata": {}
        }
      ]
    },
    {
      "cell_type": "code",
      "source": [
        "plot(Loss,EPOCH)"
      ],
      "metadata": {
        "colab": {
          "base_uri": "https://localhost:8080/",
          "height": 599
        },
        "id": "5-jpBrJQ4_Ih",
        "outputId": "ab67fb3b-3377-45a8-dd82-740c84560e65"
      },
      "execution_count": 8,
      "outputs": [
        {
          "output_type": "display_data",
          "data": {
            "text/plain": [
              "<Figure size 700x700 with 1 Axes>"
            ],
            "image/png": "[encoded data removed]"
          },
          "metadata": {}
        }
      ]
    },
    {
      "cell_type": "code",
      "source": [
        "torch.save(dense_net,\"densenet_121_cifar_10.pt\")"
      ],
      "metadata": {
        "id": "pG44Cy5W8U3y"
      },
      "execution_count": 9,
      "outputs": []
    },
    {
      "cell_type": "code",
      "source": [],
      "metadata": {
        "id": "DEa7HOsq8fxY"
      },
      "execution_count": null,
      "outputs": []
    }
  ]
}